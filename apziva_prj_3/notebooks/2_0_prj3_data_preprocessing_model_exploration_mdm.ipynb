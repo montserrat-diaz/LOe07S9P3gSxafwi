{
  "cells": [
    {
      "cell_type": "code",
      "execution_count": 1,
      "metadata": {
        "colab": {
          "base_uri": "https://localhost:8080/",
          "height": 73
        },
        "id": "lWUwpwmezbLS",
        "outputId": "6cd2c0d4-54cc-4f20-e12b-5df1d9340365"
      },
      "outputs": [
        {
          "output_type": "display_data",
          "data": {
            "text/plain": [
              "<IPython.core.display.HTML object>"
            ],
            "text/html": [
              "\n",
              "     <input type=\"file\" id=\"files-4829fdab-db03-4093-ac66-51f7ec299b1e\" name=\"files[]\" multiple disabled\n",
              "        style=\"border:none\" />\n",
              "     <output id=\"result-4829fdab-db03-4093-ac66-51f7ec299b1e\">\n",
              "      Upload widget is only available when the cell has been executed in the\n",
              "      current browser session. Please rerun this cell to enable.\n",
              "      </output>\n",
              "      <script>// Copyright 2017 Google LLC\n",
              "//\n",
              "// Licensed under the Apache License, Version 2.0 (the \"License\");\n",
              "// you may not use this file except in compliance with the License.\n",
              "// You may obtain a copy of the License at\n",
              "//\n",
              "//      http://www.apache.org/licenses/LICENSE-2.0\n",
              "//\n",
              "// Unless required by applicable law or agreed to in writing, software\n",
              "// distributed under the License is distributed on an \"AS IS\" BASIS,\n",
              "// WITHOUT WARRANTIES OR CONDITIONS OF ANY KIND, either express or implied.\n",
              "// See the License for the specific language governing permissions and\n",
              "// limitations under the License.\n",
              "\n",
              "/**\n",
              " * @fileoverview Helpers for google.colab Python module.\n",
              " */\n",
              "(function(scope) {\n",
              "function span(text, styleAttributes = {}) {\n",
              "  const element = document.createElement('span');\n",
              "  element.textContent = text;\n",
              "  for (const key of Object.keys(styleAttributes)) {\n",
              "    element.style[key] = styleAttributes[key];\n",
              "  }\n",
              "  return element;\n",
              "}\n",
              "\n",
              "// Max number of bytes which will be uploaded at a time.\n",
              "const MAX_PAYLOAD_SIZE = 100 * 1024;\n",
              "\n",
              "function _uploadFiles(inputId, outputId) {\n",
              "  const steps = uploadFilesStep(inputId, outputId);\n",
              "  const outputElement = document.getElementById(outputId);\n",
              "  // Cache steps on the outputElement to make it available for the next call\n",
              "  // to uploadFilesContinue from Python.\n",
              "  outputElement.steps = steps;\n",
              "\n",
              "  return _uploadFilesContinue(outputId);\n",
              "}\n",
              "\n",
              "// This is roughly an async generator (not supported in the browser yet),\n",
              "// where there are multiple asynchronous steps and the Python side is going\n",
              "// to poll for completion of each step.\n",
              "// This uses a Promise to block the python side on completion of each step,\n",
              "// then passes the result of the previous step as the input to the next step.\n",
              "function _uploadFilesContinue(outputId) {\n",
              "  const outputElement = document.getElementById(outputId);\n",
              "  const steps = outputElement.steps;\n",
              "\n",
              "  const next = steps.next(outputElement.lastPromiseValue);\n",
              "  return Promise.resolve(next.value.promise).then((value) => {\n",
              "    // Cache the last promise value to make it available to the next\n",
              "    // step of the generator.\n",
              "    outputElement.lastPromiseValue = value;\n",
              "    return next.value.response;\n",
              "  });\n",
              "}\n",
              "\n",
              "/**\n",
              " * Generator function which is called between each async step of the upload\n",
              " * process.\n",
              " * @param {string} inputId Element ID of the input file picker element.\n",
              " * @param {string} outputId Element ID of the output display.\n",
              " * @return {!Iterable<!Object>} Iterable of next steps.\n",
              " */\n",
              "function* uploadFilesStep(inputId, outputId) {\n",
              "  const inputElement = document.getElementById(inputId);\n",
              "  inputElement.disabled = false;\n",
              "\n",
              "  const outputElement = document.getElementById(outputId);\n",
              "  outputElement.innerHTML = '';\n",
              "\n",
              "  const pickedPromise = new Promise((resolve) => {\n",
              "    inputElement.addEventListener('change', (e) => {\n",
              "      resolve(e.target.files);\n",
              "    });\n",
              "  });\n",
              "\n",
              "  const cancel = document.createElement('button');\n",
              "  inputElement.parentElement.appendChild(cancel);\n",
              "  cancel.textContent = 'Cancel upload';\n",
              "  const cancelPromise = new Promise((resolve) => {\n",
              "    cancel.onclick = () => {\n",
              "      resolve(null);\n",
              "    };\n",
              "  });\n",
              "\n",
              "  // Wait for the user to pick the files.\n",
              "  const files = yield {\n",
              "    promise: Promise.race([pickedPromise, cancelPromise]),\n",
              "    response: {\n",
              "      action: 'starting',\n",
              "    }\n",
              "  };\n",
              "\n",
              "  cancel.remove();\n",
              "\n",
              "  // Disable the input element since further picks are not allowed.\n",
              "  inputElement.disabled = true;\n",
              "\n",
              "  if (!files) {\n",
              "    return {\n",
              "      response: {\n",
              "        action: 'complete',\n",
              "      }\n",
              "    };\n",
              "  }\n",
              "\n",
              "  for (const file of files) {\n",
              "    const li = document.createElement('li');\n",
              "    li.append(span(file.name, {fontWeight: 'bold'}));\n",
              "    li.append(span(\n",
              "        `(${file.type || 'n/a'}) - ${file.size} bytes, ` +\n",
              "        `last modified: ${\n",
              "            file.lastModifiedDate ? file.lastModifiedDate.toLocaleDateString() :\n",
              "                                    'n/a'} - `));\n",
              "    const percent = span('0% done');\n",
              "    li.appendChild(percent);\n",
              "\n",
              "    outputElement.appendChild(li);\n",
              "\n",
              "    const fileDataPromise = new Promise((resolve) => {\n",
              "      const reader = new FileReader();\n",
              "      reader.onload = (e) => {\n",
              "        resolve(e.target.result);\n",
              "      };\n",
              "      reader.readAsArrayBuffer(file);\n",
              "    });\n",
              "    // Wait for the data to be ready.\n",
              "    let fileData = yield {\n",
              "      promise: fileDataPromise,\n",
              "      response: {\n",
              "        action: 'continue',\n",
              "      }\n",
              "    };\n",
              "\n",
              "    // Use a chunked sending to avoid message size limits. See b/62115660.\n",
              "    let position = 0;\n",
              "    do {\n",
              "      const length = Math.min(fileData.byteLength - position, MAX_PAYLOAD_SIZE);\n",
              "      const chunk = new Uint8Array(fileData, position, length);\n",
              "      position += length;\n",
              "\n",
              "      const base64 = btoa(String.fromCharCode.apply(null, chunk));\n",
              "      yield {\n",
              "        response: {\n",
              "          action: 'append',\n",
              "          file: file.name,\n",
              "          data: base64,\n",
              "        },\n",
              "      };\n",
              "\n",
              "      let percentDone = fileData.byteLength === 0 ?\n",
              "          100 :\n",
              "          Math.round((position / fileData.byteLength) * 100);\n",
              "      percent.textContent = `${percentDone}% done`;\n",
              "\n",
              "    } while (position < fileData.byteLength);\n",
              "  }\n",
              "\n",
              "  // All done.\n",
              "  yield {\n",
              "    response: {\n",
              "      action: 'complete',\n",
              "    }\n",
              "  };\n",
              "}\n",
              "\n",
              "scope.google = scope.google || {};\n",
              "scope.google.colab = scope.google.colab || {};\n",
              "scope.google.colab._files = {\n",
              "  _uploadFiles,\n",
              "  _uploadFilesContinue,\n",
              "};\n",
              "})(self);\n",
              "</script> "
            ]
          },
          "metadata": {}
        },
        {
          "output_type": "stream",
          "name": "stdout",
          "text": [
            "Saving prj3_cleaned_data.csv to prj3_cleaned_data.csv\n"
          ]
        }
      ],
      "source": [
        "from google.colab import files\n",
        "uploaded = files.upload()"
      ]
    },
    {
      "cell_type": "code",
      "execution_count": 2,
      "metadata": {
        "colab": {
          "base_uri": "https://localhost:8080/",
          "height": 206
        },
        "id": "oWlnApdB6557",
        "outputId": "98e48d14-5d27-43fd-a824-4c13f046a6fe"
      },
      "outputs": [
        {
          "output_type": "execute_result",
          "data": {
            "text/plain": [
              "   id                                          job_title  \\\n",
              "0   1  2019 ct bauer college of business graduate mag...   \n",
              "1   2  native english teacher at epik english program...   \n",
              "2   3              aspiring human resources professional   \n",
              "3   4             people development coordinator at ryan   \n",
              "4   5    advisory board member at celal bayar university   \n",
              "\n",
              "                             location connection  fit  \n",
              "0                       houston texas         85  NaN  \n",
              "1                              kanada      500+   NaN  \n",
              "2  raleigh-durham north carolina area         44  NaN  \n",
              "3                        denton texas      500+   NaN  \n",
              "4                      i̇zmir türkiye      500+   NaN  "
            ],
            "text/html": [
              "\n",
              "  <div id=\"df-cae7e5fd-a9fe-473d-a540-3208b3487804\" class=\"colab-df-container\">\n",
              "    <div>\n",
              "<style scoped>\n",
              "    .dataframe tbody tr th:only-of-type {\n",
              "        vertical-align: middle;\n",
              "    }\n",
              "\n",
              "    .dataframe tbody tr th {\n",
              "        vertical-align: top;\n",
              "    }\n",
              "\n",
              "    .dataframe thead th {\n",
              "        text-align: right;\n",
              "    }\n",
              "</style>\n",
              "<table border=\"1\" class=\"dataframe\">\n",
              "  <thead>\n",
              "    <tr style=\"text-align: right;\">\n",
              "      <th></th>\n",
              "      <th>id</th>\n",
              "      <th>job_title</th>\n",
              "      <th>location</th>\n",
              "      <th>connection</th>\n",
              "      <th>fit</th>\n",
              "    </tr>\n",
              "  </thead>\n",
              "  <tbody>\n",
              "    <tr>\n",
              "      <th>0</th>\n",
              "      <td>1</td>\n",
              "      <td>2019 ct bauer college of business graduate mag...</td>\n",
              "      <td>houston texas</td>\n",
              "      <td>85</td>\n",
              "      <td>NaN</td>\n",
              "    </tr>\n",
              "    <tr>\n",
              "      <th>1</th>\n",
              "      <td>2</td>\n",
              "      <td>native english teacher at epik english program...</td>\n",
              "      <td>kanada</td>\n",
              "      <td>500+</td>\n",
              "      <td>NaN</td>\n",
              "    </tr>\n",
              "    <tr>\n",
              "      <th>2</th>\n",
              "      <td>3</td>\n",
              "      <td>aspiring human resources professional</td>\n",
              "      <td>raleigh-durham north carolina area</td>\n",
              "      <td>44</td>\n",
              "      <td>NaN</td>\n",
              "    </tr>\n",
              "    <tr>\n",
              "      <th>3</th>\n",
              "      <td>4</td>\n",
              "      <td>people development coordinator at ryan</td>\n",
              "      <td>denton texas</td>\n",
              "      <td>500+</td>\n",
              "      <td>NaN</td>\n",
              "    </tr>\n",
              "    <tr>\n",
              "      <th>4</th>\n",
              "      <td>5</td>\n",
              "      <td>advisory board member at celal bayar university</td>\n",
              "      <td>i̇zmir türkiye</td>\n",
              "      <td>500+</td>\n",
              "      <td>NaN</td>\n",
              "    </tr>\n",
              "  </tbody>\n",
              "</table>\n",
              "</div>\n",
              "    <div class=\"colab-df-buttons\">\n",
              "\n",
              "  <div class=\"colab-df-container\">\n",
              "    <button class=\"colab-df-convert\" onclick=\"convertToInteractive('df-cae7e5fd-a9fe-473d-a540-3208b3487804')\"\n",
              "            title=\"Convert this dataframe to an interactive table.\"\n",
              "            style=\"display:none;\">\n",
              "\n",
              "  <svg xmlns=\"http://www.w3.org/2000/svg\" height=\"24px\" viewBox=\"0 -960 960 960\">\n",
              "    <path d=\"M120-120v-720h720v720H120Zm60-500h600v-160H180v160Zm220 220h160v-160H400v160Zm0 220h160v-160H400v160ZM180-400h160v-160H180v160Zm440 0h160v-160H620v160ZM180-180h160v-160H180v160Zm440 0h160v-160H620v160Z\"/>\n",
              "  </svg>\n",
              "    </button>\n",
              "\n",
              "  <style>\n",
              "    .colab-df-container {\n",
              "      display:flex;\n",
              "      gap: 12px;\n",
              "    }\n",
              "\n",
              "    .colab-df-convert {\n",
              "      background-color: #E8F0FE;\n",
              "      border: none;\n",
              "      border-radius: 50%;\n",
              "      cursor: pointer;\n",
              "      display: none;\n",
              "      fill: #1967D2;\n",
              "      height: 32px;\n",
              "      padding: 0 0 0 0;\n",
              "      width: 32px;\n",
              "    }\n",
              "\n",
              "    .colab-df-convert:hover {\n",
              "      background-color: #E2EBFA;\n",
              "      box-shadow: 0px 1px 2px rgba(60, 64, 67, 0.3), 0px 1px 3px 1px rgba(60, 64, 67, 0.15);\n",
              "      fill: #174EA6;\n",
              "    }\n",
              "\n",
              "    .colab-df-buttons div {\n",
              "      margin-bottom: 4px;\n",
              "    }\n",
              "\n",
              "    [theme=dark] .colab-df-convert {\n",
              "      background-color: #3B4455;\n",
              "      fill: #D2E3FC;\n",
              "    }\n",
              "\n",
              "    [theme=dark] .colab-df-convert:hover {\n",
              "      background-color: #434B5C;\n",
              "      box-shadow: 0px 1px 3px 1px rgba(0, 0, 0, 0.15);\n",
              "      filter: drop-shadow(0px 1px 2px rgba(0, 0, 0, 0.3));\n",
              "      fill: #FFFFFF;\n",
              "    }\n",
              "  </style>\n",
              "\n",
              "    <script>\n",
              "      const buttonEl =\n",
              "        document.querySelector('#df-cae7e5fd-a9fe-473d-a540-3208b3487804 button.colab-df-convert');\n",
              "      buttonEl.style.display =\n",
              "        google.colab.kernel.accessAllowed ? 'block' : 'none';\n",
              "\n",
              "      async function convertToInteractive(key) {\n",
              "        const element = document.querySelector('#df-cae7e5fd-a9fe-473d-a540-3208b3487804');\n",
              "        const dataTable =\n",
              "          await google.colab.kernel.invokeFunction('convertToInteractive',\n",
              "                                                    [key], {});\n",
              "        if (!dataTable) return;\n",
              "\n",
              "        const docLinkHtml = 'Like what you see? Visit the ' +\n",
              "          '<a target=\"_blank\" href=https://colab.research.google.com/notebooks/data_table.ipynb>data table notebook</a>'\n",
              "          + ' to learn more about interactive tables.';\n",
              "        element.innerHTML = '';\n",
              "        dataTable['output_type'] = 'display_data';\n",
              "        await google.colab.output.renderOutput(dataTable, element);\n",
              "        const docLink = document.createElement('div');\n",
              "        docLink.innerHTML = docLinkHtml;\n",
              "        element.appendChild(docLink);\n",
              "      }\n",
              "    </script>\n",
              "  </div>\n",
              "\n",
              "\n",
              "<div id=\"df-5938aefa-36dc-4566-8720-821016561aa5\">\n",
              "  <button class=\"colab-df-quickchart\" onclick=\"quickchart('df-5938aefa-36dc-4566-8720-821016561aa5')\"\n",
              "            title=\"Suggest charts.\"\n",
              "            style=\"display:none;\">\n",
              "\n",
              "<svg xmlns=\"http://www.w3.org/2000/svg\" height=\"24px\"viewBox=\"0 0 24 24\"\n",
              "     width=\"24px\">\n",
              "    <g>\n",
              "        <path d=\"M19 3H5c-1.1 0-2 .9-2 2v14c0 1.1.9 2 2 2h14c1.1 0 2-.9 2-2V5c0-1.1-.9-2-2-2zM9 17H7v-7h2v7zm4 0h-2V7h2v10zm4 0h-2v-4h2v4z\"/>\n",
              "    </g>\n",
              "</svg>\n",
              "  </button>\n",
              "\n",
              "<style>\n",
              "  .colab-df-quickchart {\n",
              "      --bg-color: #E8F0FE;\n",
              "      --fill-color: #1967D2;\n",
              "      --hover-bg-color: #E2EBFA;\n",
              "      --hover-fill-color: #174EA6;\n",
              "      --disabled-fill-color: #AAA;\n",
              "      --disabled-bg-color: #DDD;\n",
              "  }\n",
              "\n",
              "  [theme=dark] .colab-df-quickchart {\n",
              "      --bg-color: #3B4455;\n",
              "      --fill-color: #D2E3FC;\n",
              "      --hover-bg-color: #434B5C;\n",
              "      --hover-fill-color: #FFFFFF;\n",
              "      --disabled-bg-color: #3B4455;\n",
              "      --disabled-fill-color: #666;\n",
              "  }\n",
              "\n",
              "  .colab-df-quickchart {\n",
              "    background-color: var(--bg-color);\n",
              "    border: none;\n",
              "    border-radius: 50%;\n",
              "    cursor: pointer;\n",
              "    display: none;\n",
              "    fill: var(--fill-color);\n",
              "    height: 32px;\n",
              "    padding: 0;\n",
              "    width: 32px;\n",
              "  }\n",
              "\n",
              "  .colab-df-quickchart:hover {\n",
              "    background-color: var(--hover-bg-color);\n",
              "    box-shadow: 0 1px 2px rgba(60, 64, 67, 0.3), 0 1px 3px 1px rgba(60, 64, 67, 0.15);\n",
              "    fill: var(--button-hover-fill-color);\n",
              "  }\n",
              "\n",
              "  .colab-df-quickchart-complete:disabled,\n",
              "  .colab-df-quickchart-complete:disabled:hover {\n",
              "    background-color: var(--disabled-bg-color);\n",
              "    fill: var(--disabled-fill-color);\n",
              "    box-shadow: none;\n",
              "  }\n",
              "\n",
              "  .colab-df-spinner {\n",
              "    border: 2px solid var(--fill-color);\n",
              "    border-color: transparent;\n",
              "    border-bottom-color: var(--fill-color);\n",
              "    animation:\n",
              "      spin 1s steps(1) infinite;\n",
              "  }\n",
              "\n",
              "  @keyframes spin {\n",
              "    0% {\n",
              "      border-color: transparent;\n",
              "      border-bottom-color: var(--fill-color);\n",
              "      border-left-color: var(--fill-color);\n",
              "    }\n",
              "    20% {\n",
              "      border-color: transparent;\n",
              "      border-left-color: var(--fill-color);\n",
              "      border-top-color: var(--fill-color);\n",
              "    }\n",
              "    30% {\n",
              "      border-color: transparent;\n",
              "      border-left-color: var(--fill-color);\n",
              "      border-top-color: var(--fill-color);\n",
              "      border-right-color: var(--fill-color);\n",
              "    }\n",
              "    40% {\n",
              "      border-color: transparent;\n",
              "      border-right-color: var(--fill-color);\n",
              "      border-top-color: var(--fill-color);\n",
              "    }\n",
              "    60% {\n",
              "      border-color: transparent;\n",
              "      border-right-color: var(--fill-color);\n",
              "    }\n",
              "    80% {\n",
              "      border-color: transparent;\n",
              "      border-right-color: var(--fill-color);\n",
              "      border-bottom-color: var(--fill-color);\n",
              "    }\n",
              "    90% {\n",
              "      border-color: transparent;\n",
              "      border-bottom-color: var(--fill-color);\n",
              "    }\n",
              "  }\n",
              "</style>\n",
              "\n",
              "  <script>\n",
              "    async function quickchart(key) {\n",
              "      const quickchartButtonEl =\n",
              "        document.querySelector('#' + key + ' button');\n",
              "      quickchartButtonEl.disabled = true;  // To prevent multiple clicks.\n",
              "      quickchartButtonEl.classList.add('colab-df-spinner');\n",
              "      try {\n",
              "        const charts = await google.colab.kernel.invokeFunction(\n",
              "            'suggestCharts', [key], {});\n",
              "      } catch (error) {\n",
              "        console.error('Error during call to suggestCharts:', error);\n",
              "      }\n",
              "      quickchartButtonEl.classList.remove('colab-df-spinner');\n",
              "      quickchartButtonEl.classList.add('colab-df-quickchart-complete');\n",
              "    }\n",
              "    (() => {\n",
              "      let quickchartButtonEl =\n",
              "        document.querySelector('#df-5938aefa-36dc-4566-8720-821016561aa5 button');\n",
              "      quickchartButtonEl.style.display =\n",
              "        google.colab.kernel.accessAllowed ? 'block' : 'none';\n",
              "    })();\n",
              "  </script>\n",
              "</div>\n",
              "    </div>\n",
              "  </div>\n"
            ]
          },
          "metadata": {},
          "execution_count": 2
        }
      ],
      "source": [
        "import numpy as np\n",
        "import pandas as pd\n",
        "\n",
        "data = pd.read_csv(\"prj3_cleaned_data.csv\")\n",
        "data.head()"
      ]
    },
    {
      "cell_type": "markdown",
      "metadata": {
        "id": "28stdJY40EtN"
      },
      "source": [
        "# [Bag-of-Words Model](https://spotintelligence.com/2022/12/20/bag-of-words-python/)\n"
      ]
    },
    {
      "cell_type": "markdown",
      "metadata": {
        "id": "1QUHuHON8anz"
      },
      "source": [
        "### Extract words"
      ]
    },
    {
      "cell_type": "code",
      "execution_count": 3,
      "metadata": {
        "colab": {
          "base_uri": "https://localhost:8080/",
          "height": 206
        },
        "id": "3-QT60C-WCTA",
        "outputId": "9508fc8e-1765-4928-c23d-12276b702303"
      },
      "outputs": [
        {
          "output_type": "execute_result",
          "data": {
            "text/plain": [
              "                                         data_concat\n",
              "0  2019 ct bauer college of business graduate mag...\n",
              "1  native english teacher at epik english program...\n",
              "2  aspiring human resources professional raleigh-...\n",
              "3  people development coordinator at ryan denton ...\n",
              "4  advisory board member at celal bayar universit..."
            ],
            "text/html": [
              "\n",
              "  <div id=\"df-8041030d-55e2-4027-a730-84b001eea666\" class=\"colab-df-container\">\n",
              "    <div>\n",
              "<style scoped>\n",
              "    .dataframe tbody tr th:only-of-type {\n",
              "        vertical-align: middle;\n",
              "    }\n",
              "\n",
              "    .dataframe tbody tr th {\n",
              "        vertical-align: top;\n",
              "    }\n",
              "\n",
              "    .dataframe thead th {\n",
              "        text-align: right;\n",
              "    }\n",
              "</style>\n",
              "<table border=\"1\" class=\"dataframe\">\n",
              "  <thead>\n",
              "    <tr style=\"text-align: right;\">\n",
              "      <th></th>\n",
              "      <th>data_concat</th>\n",
              "    </tr>\n",
              "  </thead>\n",
              "  <tbody>\n",
              "    <tr>\n",
              "      <th>0</th>\n",
              "      <td>2019 ct bauer college of business graduate mag...</td>\n",
              "    </tr>\n",
              "    <tr>\n",
              "      <th>1</th>\n",
              "      <td>native english teacher at epik english program...</td>\n",
              "    </tr>\n",
              "    <tr>\n",
              "      <th>2</th>\n",
              "      <td>aspiring human resources professional raleigh-...</td>\n",
              "    </tr>\n",
              "    <tr>\n",
              "      <th>3</th>\n",
              "      <td>people development coordinator at ryan denton ...</td>\n",
              "    </tr>\n",
              "    <tr>\n",
              "      <th>4</th>\n",
              "      <td>advisory board member at celal bayar universit...</td>\n",
              "    </tr>\n",
              "  </tbody>\n",
              "</table>\n",
              "</div>\n",
              "    <div class=\"colab-df-buttons\">\n",
              "\n",
              "  <div class=\"colab-df-container\">\n",
              "    <button class=\"colab-df-convert\" onclick=\"convertToInteractive('df-8041030d-55e2-4027-a730-84b001eea666')\"\n",
              "            title=\"Convert this dataframe to an interactive table.\"\n",
              "            style=\"display:none;\">\n",
              "\n",
              "  <svg xmlns=\"http://www.w3.org/2000/svg\" height=\"24px\" viewBox=\"0 -960 960 960\">\n",
              "    <path d=\"M120-120v-720h720v720H120Zm60-500h600v-160H180v160Zm220 220h160v-160H400v160Zm0 220h160v-160H400v160ZM180-400h160v-160H180v160Zm440 0h160v-160H620v160ZM180-180h160v-160H180v160Zm440 0h160v-160H620v160Z\"/>\n",
              "  </svg>\n",
              "    </button>\n",
              "\n",
              "  <style>\n",
              "    .colab-df-container {\n",
              "      display:flex;\n",
              "      gap: 12px;\n",
              "    }\n",
              "\n",
              "    .colab-df-convert {\n",
              "      background-color: #E8F0FE;\n",
              "      border: none;\n",
              "      border-radius: 50%;\n",
              "      cursor: pointer;\n",
              "      display: none;\n",
              "      fill: #1967D2;\n",
              "      height: 32px;\n",
              "      padding: 0 0 0 0;\n",
              "      width: 32px;\n",
              "    }\n",
              "\n",
              "    .colab-df-convert:hover {\n",
              "      background-color: #E2EBFA;\n",
              "      box-shadow: 0px 1px 2px rgba(60, 64, 67, 0.3), 0px 1px 3px 1px rgba(60, 64, 67, 0.15);\n",
              "      fill: #174EA6;\n",
              "    }\n",
              "\n",
              "    .colab-df-buttons div {\n",
              "      margin-bottom: 4px;\n",
              "    }\n",
              "\n",
              "    [theme=dark] .colab-df-convert {\n",
              "      background-color: #3B4455;\n",
              "      fill: #D2E3FC;\n",
              "    }\n",
              "\n",
              "    [theme=dark] .colab-df-convert:hover {\n",
              "      background-color: #434B5C;\n",
              "      box-shadow: 0px 1px 3px 1px rgba(0, 0, 0, 0.15);\n",
              "      filter: drop-shadow(0px 1px 2px rgba(0, 0, 0, 0.3));\n",
              "      fill: #FFFFFF;\n",
              "    }\n",
              "  </style>\n",
              "\n",
              "    <script>\n",
              "      const buttonEl =\n",
              "        document.querySelector('#df-8041030d-55e2-4027-a730-84b001eea666 button.colab-df-convert');\n",
              "      buttonEl.style.display =\n",
              "        google.colab.kernel.accessAllowed ? 'block' : 'none';\n",
              "\n",
              "      async function convertToInteractive(key) {\n",
              "        const element = document.querySelector('#df-8041030d-55e2-4027-a730-84b001eea666');\n",
              "        const dataTable =\n",
              "          await google.colab.kernel.invokeFunction('convertToInteractive',\n",
              "                                                    [key], {});\n",
              "        if (!dataTable) return;\n",
              "\n",
              "        const docLinkHtml = 'Like what you see? Visit the ' +\n",
              "          '<a target=\"_blank\" href=https://colab.research.google.com/notebooks/data_table.ipynb>data table notebook</a>'\n",
              "          + ' to learn more about interactive tables.';\n",
              "        element.innerHTML = '';\n",
              "        dataTable['output_type'] = 'display_data';\n",
              "        await google.colab.output.renderOutput(dataTable, element);\n",
              "        const docLink = document.createElement('div');\n",
              "        docLink.innerHTML = docLinkHtml;\n",
              "        element.appendChild(docLink);\n",
              "      }\n",
              "    </script>\n",
              "  </div>\n",
              "\n",
              "\n",
              "<div id=\"df-6e2289b7-39a9-4e35-ab5a-50b8f9d0f330\">\n",
              "  <button class=\"colab-df-quickchart\" onclick=\"quickchart('df-6e2289b7-39a9-4e35-ab5a-50b8f9d0f330')\"\n",
              "            title=\"Suggest charts.\"\n",
              "            style=\"display:none;\">\n",
              "\n",
              "<svg xmlns=\"http://www.w3.org/2000/svg\" height=\"24px\"viewBox=\"0 0 24 24\"\n",
              "     width=\"24px\">\n",
              "    <g>\n",
              "        <path d=\"M19 3H5c-1.1 0-2 .9-2 2v14c0 1.1.9 2 2 2h14c1.1 0 2-.9 2-2V5c0-1.1-.9-2-2-2zM9 17H7v-7h2v7zm4 0h-2V7h2v10zm4 0h-2v-4h2v4z\"/>\n",
              "    </g>\n",
              "</svg>\n",
              "  </button>\n",
              "\n",
              "<style>\n",
              "  .colab-df-quickchart {\n",
              "      --bg-color: #E8F0FE;\n",
              "      --fill-color: #1967D2;\n",
              "      --hover-bg-color: #E2EBFA;\n",
              "      --hover-fill-color: #174EA6;\n",
              "      --disabled-fill-color: #AAA;\n",
              "      --disabled-bg-color: #DDD;\n",
              "  }\n",
              "\n",
              "  [theme=dark] .colab-df-quickchart {\n",
              "      --bg-color: #3B4455;\n",
              "      --fill-color: #D2E3FC;\n",
              "      --hover-bg-color: #434B5C;\n",
              "      --hover-fill-color: #FFFFFF;\n",
              "      --disabled-bg-color: #3B4455;\n",
              "      --disabled-fill-color: #666;\n",
              "  }\n",
              "\n",
              "  .colab-df-quickchart {\n",
              "    background-color: var(--bg-color);\n",
              "    border: none;\n",
              "    border-radius: 50%;\n",
              "    cursor: pointer;\n",
              "    display: none;\n",
              "    fill: var(--fill-color);\n",
              "    height: 32px;\n",
              "    padding: 0;\n",
              "    width: 32px;\n",
              "  }\n",
              "\n",
              "  .colab-df-quickchart:hover {\n",
              "    background-color: var(--hover-bg-color);\n",
              "    box-shadow: 0 1px 2px rgba(60, 64, 67, 0.3), 0 1px 3px 1px rgba(60, 64, 67, 0.15);\n",
              "    fill: var(--button-hover-fill-color);\n",
              "  }\n",
              "\n",
              "  .colab-df-quickchart-complete:disabled,\n",
              "  .colab-df-quickchart-complete:disabled:hover {\n",
              "    background-color: var(--disabled-bg-color);\n",
              "    fill: var(--disabled-fill-color);\n",
              "    box-shadow: none;\n",
              "  }\n",
              "\n",
              "  .colab-df-spinner {\n",
              "    border: 2px solid var(--fill-color);\n",
              "    border-color: transparent;\n",
              "    border-bottom-color: var(--fill-color);\n",
              "    animation:\n",
              "      spin 1s steps(1) infinite;\n",
              "  }\n",
              "\n",
              "  @keyframes spin {\n",
              "    0% {\n",
              "      border-color: transparent;\n",
              "      border-bottom-color: var(--fill-color);\n",
              "      border-left-color: var(--fill-color);\n",
              "    }\n",
              "    20% {\n",
              "      border-color: transparent;\n",
              "      border-left-color: var(--fill-color);\n",
              "      border-top-color: var(--fill-color);\n",
              "    }\n",
              "    30% {\n",
              "      border-color: transparent;\n",
              "      border-left-color: var(--fill-color);\n",
              "      border-top-color: var(--fill-color);\n",
              "      border-right-color: var(--fill-color);\n",
              "    }\n",
              "    40% {\n",
              "      border-color: transparent;\n",
              "      border-right-color: var(--fill-color);\n",
              "      border-top-color: var(--fill-color);\n",
              "    }\n",
              "    60% {\n",
              "      border-color: transparent;\n",
              "      border-right-color: var(--fill-color);\n",
              "    }\n",
              "    80% {\n",
              "      border-color: transparent;\n",
              "      border-right-color: var(--fill-color);\n",
              "      border-bottom-color: var(--fill-color);\n",
              "    }\n",
              "    90% {\n",
              "      border-color: transparent;\n",
              "      border-bottom-color: var(--fill-color);\n",
              "    }\n",
              "  }\n",
              "</style>\n",
              "\n",
              "  <script>\n",
              "    async function quickchart(key) {\n",
              "      const quickchartButtonEl =\n",
              "        document.querySelector('#' + key + ' button');\n",
              "      quickchartButtonEl.disabled = true;  // To prevent multiple clicks.\n",
              "      quickchartButtonEl.classList.add('colab-df-spinner');\n",
              "      try {\n",
              "        const charts = await google.colab.kernel.invokeFunction(\n",
              "            'suggestCharts', [key], {});\n",
              "      } catch (error) {\n",
              "        console.error('Error during call to suggestCharts:', error);\n",
              "      }\n",
              "      quickchartButtonEl.classList.remove('colab-df-spinner');\n",
              "      quickchartButtonEl.classList.add('colab-df-quickchart-complete');\n",
              "    }\n",
              "    (() => {\n",
              "      let quickchartButtonEl =\n",
              "        document.querySelector('#df-6e2289b7-39a9-4e35-ab5a-50b8f9d0f330 button');\n",
              "      quickchartButtonEl.style.display =\n",
              "        google.colab.kernel.accessAllowed ? 'block' : 'none';\n",
              "    })();\n",
              "  </script>\n",
              "</div>\n",
              "    </div>\n",
              "  </div>\n"
            ]
          },
          "metadata": {},
          "execution_count": 3
        }
      ],
      "source": [
        "# joining all excisting columns\n",
        "data_concat = pd.DataFrame()\n",
        "data_concat[\"data_concat\"] = data[[\"job_title\", \"location\", \"connection\"]].apply(\" \".join, axis=1)\n",
        "\n",
        "data_concat.head()"
      ]
    },
    {
      "cell_type": "code",
      "execution_count": 4,
      "metadata": {
        "colab": {
          "base_uri": "https://localhost:8080/"
        },
        "id": "oMlUhrcvbZBk",
        "outputId": "ee4f29c7-7323-4058-9614-12e2d769ec53"
      },
      "outputs": [
        {
          "output_type": "stream",
          "name": "stdout",
          "text": [
            "['2019 ct bauer college of business graduate magna cum laude and aspiring human resources professional houston texas 85', 'native english teacher at epik english program in korea kanada 500+ ', 'aspiring human resources professional raleigh-durham north carolina area 44', 'people development coordinator at ryan denton texas 500+ ', 'advisory board member at celal bayar university i̇zmir türkiye 500+ ', 'aspiring human resources specialist greater new york city area 1', 'student at humber college and aspiring human resources generalist kanada 61', 'hr senior specialist san francisco bay area 500+ ', 'student at humber college and aspiring human resources generalist kanada 61', 'seeking human resources hris and generalist positions greater philadelphia area 500+ ', 'student at chapman university lake forest california 2', 'svp chro marketing & communications csr officer  engie  houston  the woodlands  energy  gphr  sphr houston texas area 500+ ', 'human resources coordinator at intercontinental buckhead atlanta atlanta georgia 500+ ', '2019 ct bauer college of business graduate magna cum laude and aspiring human resources professional houston texas 85', '2019 ct bauer college of business graduate magna cum laude and aspiring human resources professional houston texas 85', 'native english teacher at epik english program in korea kanada 500+ ', 'aspiring human resources professional raleigh-durham north carolina area 44', 'people development coordinator at ryan denton texas 500+ ', '2019 ct bauer college of business graduate magna cum laude and aspiring human resources professional houston texas 85', 'native english teacher at epik english program in korea kanada 500+ ', 'aspiring human resources professional raleigh-durham north carolina area 44', 'people development coordinator at ryan denton texas 500+ ', 'advisory board member at celal bayar university i̇zmir türkiye 500+ ', 'aspiring human resources specialist greater new york city area 1', 'student at humber college and aspiring human resources generalist kanada 61', 'hr senior specialist san francisco bay area 500+ ', 'aspiring human resources management student seeking an internship houston texas area 500+ ', 'seeking human resources opportunities chicago illinois 390', 'aspiring human resources management student seeking an internship houston texas area 500+ ', 'seeking human resources opportunities chicago illinois 390', '2019 ct bauer college of business graduate magna cum laude and aspiring human resources professional houston texas 85', 'native english teacher at epik english program in korea kanada 500+ ', 'aspiring human resources professional raleigh-durham north carolina area 44', 'people development coordinator at ryan denton texas 500+ ', 'advisory board member at celal bayar university i̇zmir türkiye 500+ ', 'aspiring human resources specialist greater new york city area 1', 'student at humber college and aspiring human resources generalist kanada 61', 'hr senior specialist san francisco bay area 500+ ', 'student at humber college and aspiring human resources generalist kanada 61', 'seeking human resources hris and generalist positions greater philadelphia area 500+ ', 'student at chapman university lake forest california 2', 'svp chro marketing & communications csr officer  engie  houston  the woodlands  energy  gphr  sphr houston texas area 500+ ', 'human resources coordinator at intercontinental buckhead atlanta atlanta georgia 500+ ', '2019 ct bauer college of business graduate magna cum laude and aspiring human resources professional houston texas 85', 'native english teacher at epik english program in korea kanada 500+ ', 'aspiring human resources professional raleigh-durham north carolina area 44', 'people development coordinator at ryan denton texas 500+ ', 'advisory board member at celal bayar university i̇zmir türkiye 500+ ', 'aspiring human resources specialist greater new york city area 1', 'student at humber college and aspiring human resources generalist kanada 61', 'hr senior specialist san francisco bay area 500+ ', 'student at humber college and aspiring human resources generalist kanada 61', 'seeking human resources hris and generalist positions greater philadelphia area 500+ ', 'student at chapman university lake forest california 2', 'svp chro marketing & communications csr officer  engie  houston  the woodlands  energy  gphr  sphr houston texas area 500+ ', 'human resources coordinator at intercontinental buckhead atlanta atlanta georgia 500+ ', '2019 ct bauer college of business graduate magna cum laude and aspiring human resources professional houston texas 85', 'aspiring human resources professional raleigh-durham north carolina area 44', 'people development coordinator at ryan denton texas 500+ ', 'aspiring human resources specialist greater new york city area 1', 'hr senior specialist san francisco bay area 500+ ', 'seeking human resources hris and generalist positions greater philadelphia area 500+ ', 'student at chapman university lake forest california 2', 'svp chro marketing & communications csr officer  engie  houston  the woodlands  energy  gphr  sphr houston texas area 500+ ', 'human resources coordinator at intercontinental buckhead atlanta atlanta georgia 500+ ', 'experienced retail manager and aspiring human resources professional austin texas area 57', 'human resources staffing and recruiting professional jackson mississippi area 500+ ', 'human resources specialist at luxottica greater new york city area 500+ ', 'director of human resources north america groupe beneteau greater grand rapids michigan area 500+ ', 'retired army national guard recruiter office manager  seeking a position in human resources virginia beach virginia 82', 'human resources generalist at scottmadden inc raleigh-durham north carolina area 500+ ', 'business management major and aspiring human resources manager monroe louisiana area 5', 'aspiring human resources manager seeking internship in human resources houston texas area 7', 'human resources professional greater boston area 16', 'nortia staffing is seeking human resources payroll & administrative professionals  408 709-2621 san jose california 500+ ', 'aspiring human resources professional  passionate about helping to create an inclusive and engaging work environment new york new york 212', 'human resources\\nconflict management\\npolicies & procedurestalent managementbenefits & compensation dallas/fort worth area 409', \"human resources generalist at schwan's amerika birleşik devletleri 500+ \", 'liberal arts major aspiring human resources analyst baton rouge louisiana area 7', 'junior mes engineer information systems myrtle beach south carolina area 52', 'senior human resources business partner at heil environmental chattanooga tennessee area 455', 'aspiring human resources professional  an energetic and team-focused leader austin texas area 174', 'hr manager at endemol shine north america los angeles california 268', 'human resources professional for the world leader in gis software highland california 50', 'rrp brand portfolio executive at jti japan tobacco international greater philadelphia area 500+ ', 'information systems specialist and programmer with a love for data and organization gaithersburg maryland 4', 'bachelor of science in biology from victoria university of wellington baltimore maryland 40', 'human resources management major milpitas california 18', 'director human resources  at ey greater atlanta area 349', 'undergraduate research assistant at styczynski lab greater atlanta area 155', 'lead official at western illinois university greater chicago area 39', 'seeking employment opportunities within customer service or patient care torrance california 64', 'admissions representative at community medical center long beach long beach california 9', 'seeking human  resources opportunities open to travel and relocation amerika birleşik devletleri 415', 'student at westfield state university bridgewater massachusetts 57', 'student at indiana university kokomo - business management - \\nretail manager at delphi hardware and paint lafayette indiana 19', 'aspiring human resources professional kokomo indiana area 71', 'student houston texas area 4', 'seeking human resources position las vegas nevada area 48', 'aspiring human resources manager  graduating may 2020  seeking an entry-level human resources position in st louis cape girardeau missouri 103', 'human resources generalist at loparex raleigh-durham north carolina area 500+ ', 'business intelligence and analytics at travelers greater new york city area 49', 'always set them up for success greater los angeles area 500+ ', 'director of administration at excellence logging katy texas 500+ ']\n"
          ]
        }
      ],
      "source": [
        "# making dataframe into a list of srings\n",
        "data_concat_list = data_concat[\"data_concat\"]\n",
        "data_concat_list = data_concat_list.tolist()\n",
        "print(data_concat_list)"
      ]
    },
    {
      "cell_type": "code",
      "execution_count": 5,
      "metadata": {
        "colab": {
          "base_uri": "https://localhost:8080/"
        },
        "id": "3HMhV2NpeFTF",
        "outputId": "03c26473-cde5-4ec3-adfd-d285b2248b17"
      },
      "outputs": [
        {
          "output_type": "stream",
          "name": "stdout",
          "text": [
            "['2019', '2019 ct', '2019 ct bauer', '44', '500', '61', '85', 'area', 'area 44', 'area 500', 'aspiring', 'aspiring human', 'aspiring human resources', 'atlanta', 'bauer', 'bauer college', 'bauer college business', 'bay', 'bay area', 'bay area 500', 'business', 'business graduate', 'business graduate magna', 'california', 'carolina', 'carolina area', 'carolina area 44', 'city', 'city area', 'college', 'college aspiring', 'college aspiring human', 'college business', 'college business graduate', 'communications', 'communications csr', 'communications csr officer', 'coordinator', 'coordinator intercontinental', 'coordinator intercontinental buckhead', 'coordinator ryan', 'coordinator ryan denton', 'ct', 'ct bauer', 'ct bauer college', 'cum', 'cum laude', 'cum laude aspiring', 'denton', 'denton texas', 'denton texas 500', 'development', 'development coordinator', 'development coordinator ryan', 'durham', 'durham north', 'durham north carolina', 'energy gphr', 'energy gphr sphr', 'engie', 'engie houston', 'engie houston woodlands', 'english', 'english program', 'english program korea', 'english teacher', 'english teacher epik', 'epik', 'epik english', 'epik english program', 'forest', 'forest california', 'francisco', 'francisco bay', 'francisco bay area', 'generalist', 'generalist kanada', 'generalist kanada 61', 'gphr sphr', 'gphr sphr houston', 'graduate', 'graduate magna', 'graduate magna cum', 'greater', 'greater new', 'greater new york', 'greater philadelphia', 'greater philadelphia area', 'houston', 'houston texas', 'houston texas 85', 'houston texas area', 'houston woodlands', 'houston woodlands energy', 'hr', 'hr senior', 'hr senior specialist', 'hris', 'hris generalist', 'hris generalist positions', 'human', 'human resources', 'human resources coordinator', 'human resources generalist', 'human resources hris', 'human resources professional', 'human resources specialist', 'humber', 'humber college', 'humber college aspiring', 'kanada', 'kanada 500', 'kanada 61', 'korea', 'korea kanada', 'korea kanada 500', 'lake', 'lake forest california', 'laude', 'laude aspiring', 'laude aspiring human', 'magna', 'magna cum', 'magna cum laude', 'management', 'manager', 'native', 'native english', 'native english teacher', 'new', 'new york', 'new york city', 'north', 'north carolina', 'north carolina area', 'people', 'people development', 'people development coordinator', 'philadelphia', 'philadelphia area', 'philadelphia area 500', 'positions', 'positions greater', 'positions greater philadelphia', 'professional', 'professional houston', 'professional houston texas', 'professional raleigh', 'professional raleigh durham', 'program', 'program korea', 'program korea kanada', 'raleigh', 'raleigh durham', 'raleigh durham north', 'resources', 'resources coordinator', 'resources coordinator intercontinental', 'resources generalist', 'resources generalist kanada', 'resources hris', 'resources hris generalist', 'resources professional', 'resources professional houston', 'resources professional raleigh', 'resources specialist', 'resources specialist greater', 'ryan', 'ryan denton', 'ryan denton texas', 'san', 'san francisco', 'san francisco bay', 'seeking', 'seeking human', 'seeking human resources', 'senior', 'senior specialist', 'senior specialist san', 'specialist', 'specialist greater', 'specialist greater new', 'specialist san', 'specialist san francisco', 'student', 'student humber', 'student humber college', 'teacher', 'teacher epik', 'teacher epik english', 'texas', 'texas 500', 'texas 85', 'texas area', 'texas area 500', 'university', 'york', 'york city', 'york city area', 'zmir türkiye']\n"
          ]
        }
      ],
      "source": [
        "from sklearn.feature_extraction.text import CountVectorizer\n",
        "\n",
        "vectorizer_1 = CountVectorizer(ngram_range=(1,3), max_features=200, stop_words='english')\n",
        "vectorizer_1.fit(data_concat_list)\n",
        "\n",
        "print(sorted(vectorizer_1.vocabulary_))"
      ]
    },
    {
      "cell_type": "markdown",
      "metadata": {
        "id": "0Vm7_W7S7946"
      },
      "source": [
        "### Score words and create vector"
      ]
    },
    {
      "cell_type": "code",
      "execution_count": 6,
      "metadata": {
        "colab": {
          "base_uri": "https://localhost:8080/"
        },
        "id": "7jib6hPRewO4",
        "outputId": "b8256e92-ec7a-41e8-dc24-73a916d9f2c7"
      },
      "outputs": [
        {
          "output_type": "stream",
          "name": "stdout",
          "text": [
            "(104, 200)\n",
            "[[1 1 1 ... 0 0 0]\n",
            " [0 0 0 ... 0 0 0]\n",
            " [0 0 0 ... 0 0 0]\n",
            " ...\n",
            " [0 0 0 ... 1 1 0]\n",
            " [0 0 0 ... 0 0 0]\n",
            " [0 0 0 ... 0 0 0]]\n"
          ]
        }
      ],
      "source": [
        "vector_1 = vectorizer_1.transform(data_concat_list)\n",
        "vector_bow = vector_1.toarray()\n",
        "print(vector_bow.shape)\n",
        "print(vector_bow)"
      ]
    },
    {
      "cell_type": "markdown",
      "metadata": {
        "id": "1uzdG89rrb7B"
      },
      "source": [
        "###Labeling Data"
      ]
    },
    {
      "cell_type": "code",
      "execution_count": 7,
      "metadata": {
        "id": "fZ9lDAWV7P_S",
        "colab": {
          "base_uri": "https://localhost:8080/"
        },
        "outputId": "c2f99807-691e-4ac8-dd27-0644a2d26b98"
      },
      "outputs": [
        {
          "output_type": "stream",
          "name": "stdout",
          "text": [
            "     id                                          job_title  \\\n",
            "0     1  2019 ct bauer college of business graduate mag...   \n",
            "2     3              aspiring human resources professional   \n",
            "5     6                aspiring human resources specialist   \n",
            "6     7  student at humber college and aspiring human r...   \n",
            "8     9  student at humber college and aspiring human r...   \n",
            "9    10  seeking human resources hris and generalist po...   \n",
            "13   14  2019 ct bauer college of business graduate mag...   \n",
            "14   15  2019 ct bauer college of business graduate mag...   \n",
            "16   17              aspiring human resources professional   \n",
            "18   19  2019 ct bauer college of business graduate mag...   \n",
            "20   21              aspiring human resources professional   \n",
            "23   24                aspiring human resources specialist   \n",
            "24   25  student at humber college and aspiring human r...   \n",
            "26   27  aspiring human resources management student se...   \n",
            "27   28              seeking human resources opportunities   \n",
            "28   29  aspiring human resources management student se...   \n",
            "29   30              seeking human resources opportunities   \n",
            "30   31  2019 ct bauer college of business graduate mag...   \n",
            "32   33              aspiring human resources professional   \n",
            "35   36                aspiring human resources specialist   \n",
            "36   37  student at humber college and aspiring human r...   \n",
            "38   39  student at humber college and aspiring human r...   \n",
            "39   40  seeking human resources hris and generalist po...   \n",
            "43   44  2019 ct bauer college of business graduate mag...   \n",
            "45   46              aspiring human resources professional   \n",
            "48   49                aspiring human resources specialist   \n",
            "49   50  student at humber college and aspiring human r...   \n",
            "51   52  student at humber college and aspiring human r...   \n",
            "52   53  seeking human resources hris and generalist po...   \n",
            "56   57  2019 ct bauer college of business graduate mag...   \n",
            "57   58              aspiring human resources professional   \n",
            "59   60                aspiring human resources specialist   \n",
            "61   62  seeking human resources hris and generalist po...   \n",
            "65   66  experienced retail manager and aspiring human ...   \n",
            "71   72  business management major and aspiring human r...   \n",
            "72   73  aspiring human resources manager seeking inter...   \n",
            "74   75  nortia staffing is seeking human resources pay...   \n",
            "75   76  aspiring human resources professional  passion...   \n",
            "78   79  liberal arts major aspiring human resources an...   \n",
            "81   82  aspiring human resources professional  an ener...   \n",
            "96   97              aspiring human resources professional   \n",
            "98   99                   seeking human resources position   \n",
            "99  100  aspiring human resources manager  graduating m...   \n",
            "\n",
            "                              location connection  fit  \n",
            "0                        houston texas         85  NaN  \n",
            "2   raleigh-durham north carolina area         44  NaN  \n",
            "5           greater new york city area          1  NaN  \n",
            "6                               kanada         61  NaN  \n",
            "8                               kanada         61  NaN  \n",
            "9            greater philadelphia area      500+   NaN  \n",
            "13                       houston texas         85  NaN  \n",
            "14                       houston texas         85  NaN  \n",
            "16  raleigh-durham north carolina area         44  NaN  \n",
            "18                       houston texas         85  NaN  \n",
            "20  raleigh-durham north carolina area         44  NaN  \n",
            "23          greater new york city area          1  NaN  \n",
            "24                              kanada         61  NaN  \n",
            "26                  houston texas area      500+   NaN  \n",
            "27                    chicago illinois        390  NaN  \n",
            "28                  houston texas area      500+   NaN  \n",
            "29                    chicago illinois        390  NaN  \n",
            "30                       houston texas         85  NaN  \n",
            "32  raleigh-durham north carolina area         44  NaN  \n",
            "35          greater new york city area          1  NaN  \n",
            "36                              kanada         61  NaN  \n",
            "38                              kanada         61  NaN  \n",
            "39           greater philadelphia area      500+   NaN  \n",
            "43                       houston texas         85  NaN  \n",
            "45  raleigh-durham north carolina area         44  NaN  \n",
            "48          greater new york city area          1  NaN  \n",
            "49                              kanada         61  NaN  \n",
            "51                              kanada         61  NaN  \n",
            "52           greater philadelphia area      500+   NaN  \n",
            "56                       houston texas         85  NaN  \n",
            "57  raleigh-durham north carolina area         44  NaN  \n",
            "59          greater new york city area          1  NaN  \n",
            "61           greater philadelphia area      500+   NaN  \n",
            "65                   austin texas area         57  NaN  \n",
            "71               monroe louisiana area          5  NaN  \n",
            "72                  houston texas area          7  NaN  \n",
            "74                 san jose california      500+   NaN  \n",
            "75                   new york new york        212  NaN  \n",
            "78          baton rouge louisiana area          7  NaN  \n",
            "81                   austin texas area        174  NaN  \n",
            "96                 kokomo indiana area         71  NaN  \n",
            "98               las vegas nevada area         48  NaN  \n",
            "99             cape girardeau missouri        103  NaN  \n"
          ]
        }
      ],
      "source": [
        "# list to store indices of matching job titles\n",
        "matching_indices = []\n",
        "\n",
        "# patterns to search for\n",
        "patterns = [\"aspiring human resources\", \"seeking human resources\"]\n",
        "\n",
        "# iterate through each job title\n",
        "for idx, title in enumerate(data_concat_list):\n",
        "    if any(pattern in title.lower() for pattern in patterns):\n",
        "        matching_indices.append(idx)\n",
        "\n",
        "# Get the rows with matching job titles\n",
        "matching_profiles = data.iloc[matching_indices]\n",
        "\n",
        "print(matching_profiles)"
      ]
    },
    {
      "cell_type": "code",
      "execution_count": 8,
      "metadata": {
        "colab": {
          "base_uri": "https://localhost:8080/"
        },
        "id": "vZ9umS83-8gE",
        "outputId": "403ba1e6-c869-44cc-a74a-5e09cc67a365"
      },
      "outputs": [
        {
          "output_type": "stream",
          "name": "stdout",
          "text": [
            "(43, 5)\n"
          ]
        }
      ],
      "source": [
        "print(matching_profiles.shape)"
      ]
    },
    {
      "cell_type": "code",
      "execution_count": 9,
      "metadata": {
        "colab": {
          "base_uri": "https://localhost:8080/"
        },
        "id": "a5A5APmUfZdY",
        "outputId": "f9e5744a-0423-40d2-dcb0-3c2ae446698d"
      },
      "outputs": [
        {
          "output_type": "stream",
          "name": "stdout",
          "text": [
            "0      1.0\n",
            "1      0.0\n",
            "2      1.0\n",
            "3      0.0\n",
            "4      0.0\n",
            "      ... \n",
            "99     1.0\n",
            "100    0.0\n",
            "101    0.0\n",
            "102    0.0\n",
            "103    0.0\n",
            "Name: fit, Length: 104, dtype: float64\n",
            "0.0    61\n",
            "1.0    43\n",
            "Name: fit, dtype: int64\n"
          ]
        }
      ],
      "source": [
        "data.iloc[[matching_indices],[4]] = 1\n",
        "data['fit'] = data['fit'].fillna(0)\n",
        "print(data['fit'])\n",
        "print(data['fit'].value_counts())"
      ]
    },
    {
      "cell_type": "code",
      "execution_count": 10,
      "metadata": {
        "id": "X-rIrOPH1gyB"
      },
      "outputs": [],
      "source": [
        "# transforming target data to array\n",
        "target = data['fit']\n",
        "target.to_numpy()\n",
        "\n",
        "target_array = target.values.reshape(-1, 1)"
      ]
    },
    {
      "cell_type": "code",
      "execution_count": 11,
      "metadata": {
        "id": "jua5tc8vb8lq",
        "colab": {
          "base_uri": "https://localhost:8080/"
        },
        "outputId": "aa402055-2993-428c-8340-a76799a8e9b6"
      },
      "outputs": [
        {
          "output_type": "stream",
          "name": "stdout",
          "text": [
            "[[1. 1. 1. ... 0. 0. 1.]\n",
            " [0. 0. 0. ... 0. 0. 0.]\n",
            " [0. 0. 0. ... 0. 0. 1.]\n",
            " ...\n",
            " [0. 0. 0. ... 1. 0. 0.]\n",
            " [0. 0. 0. ... 0. 0. 0.]\n",
            " [0. 0. 0. ... 0. 0. 0.]]\n",
            "(104, 201)\n"
          ]
        }
      ],
      "source": [
        "# putting the two arrays together\n",
        "complete_array_bow = np.append(vector_bow, target_array, axis=1)\n",
        "\n",
        "print(complete_array_bow)\n",
        "print(complete_array_bow.shape)"
      ]
    },
    {
      "cell_type": "markdown",
      "metadata": {
        "id": "iqn9mQZupUbE"
      },
      "source": [
        "###Splitting the Data"
      ]
    },
    {
      "cell_type": "code",
      "execution_count": 12,
      "metadata": {
        "id": "55K540jkhxlp"
      },
      "outputs": [],
      "source": [
        "from sklearn.model_selection import train_test_split\n",
        "X = np.delete(complete_array_bow, [200], axis=1)\n",
        "y = complete_array_bow[:, [200]]\n",
        "\n",
        "X_train, X_temp, y_train, y_temp = train_test_split(\n",
        "    X, y, test_size=0.30, random_state=0\n",
        ")\n",
        "X_val, X_test, y_val, y_test = train_test_split(\n",
        "    X_temp, y_temp, test_size=0.5, random_state=0\n",
        ")"
      ]
    },
    {
      "cell_type": "code",
      "execution_count": null,
      "metadata": {
        "id": "3UF4MzP7IZ4N"
      },
      "outputs": [],
      "source": [
        "print(\"y_val: \",y_val)\n",
        "print(\"y_test: \",y_test)"
      ]
    },
    {
      "cell_type": "markdown",
      "metadata": {
        "id": "Jq1eyy5ds2Ww"
      },
      "source": [
        "##Classification Models"
      ]
    },
    {
      "cell_type": "markdown",
      "metadata": {
        "id": "d_qEgUGvJX-7"
      },
      "source": [
        "###Logistic Regression Model"
      ]
    },
    {
      "cell_type": "markdown",
      "metadata": {
        "id": "oilyViB0KSDw"
      },
      "source": [
        "####Model Training"
      ]
    },
    {
      "cell_type": "code",
      "execution_count": 14,
      "metadata": {
        "colab": {
          "base_uri": "https://localhost:8080/"
        },
        "id": "B72FRWWo8rpn",
        "outputId": "21440412-b1b1-4970-f476-c4b0b60a3bc5"
      },
      "outputs": [
        {
          "output_type": "stream",
          "name": "stdout",
          "text": [
            "Cross Validation Scores:  [0.93333333 1.         1.         0.85714286 1.        ]\n"
          ]
        }
      ],
      "source": [
        "import warnings\n",
        "warnings.filterwarnings(\"ignore\")\n",
        "\n",
        "from sklearn.linear_model import LogisticRegression\n",
        "from sklearn.model_selection import cross_val_score\n",
        "\n",
        "lr_model = LogisticRegression(random_state=0)\n",
        "cv_scores_lr = cross_val_score(lr_model, X_train, y_train, cv=5, scoring='accuracy')\n",
        "lr_model.fit(X_train, y_train)\n",
        "\n",
        "print(\"Cross Validation Scores: \", cv_scores_lr)"
      ]
    },
    {
      "cell_type": "markdown",
      "metadata": {
        "id": "-Qjo0ygKKUXW"
      },
      "source": [
        "####Hyperparameter Tuning"
      ]
    },
    {
      "cell_type": "code",
      "execution_count": 15,
      "metadata": {
        "colab": {
          "base_uri": "https://localhost:8080/"
        },
        "id": "DaTPGGbrKhn9",
        "outputId": "52904525-dda0-4a75-e651-9da077b90d94"
      },
      "outputs": [
        {
          "output_type": "stream",
          "name": "stdout",
          "text": [
            "best parameters:  {'C': 1, 'penalty': 'l1', 'random_state': 0, 'solver': 'liblinear'}\n"
          ]
        }
      ],
      "source": [
        "from sklearn.model_selection import GridSearchCV\n",
        "\n",
        "solver = ['newton-cg', 'lbfgs', 'liblinear', 'sag', 'saga']\n",
        "penalty = ['l1', 'l2', 'elasticnet']\n",
        "penalty.append(None)\n",
        "C = [10, 1, 0.1, 0.01]\n",
        "random_state = [0]\n",
        "\n",
        "param_grid_lr = {'solver': solver,\n",
        "                 'penalty': penalty,\n",
        "                 'C': C,\n",
        "                 'random_state': random_state}\n",
        "base_model_lr = LogisticRegression()\n",
        "grid_search_lr = GridSearchCV(estimator=base_model_lr, param_grid=param_grid_lr, cv=5, scoring='accuracy')\n",
        "\n",
        "grid_search_lr.fit(X_train, y_train)\n",
        "best_params_lr = grid_search_lr.best_params_\n",
        "print(\"best parameters: \",best_params_lr)"
      ]
    },
    {
      "cell_type": "markdown",
      "metadata": {
        "id": "BuA6W6oSN5_B"
      },
      "source": [
        "####Evaluating Model on Validation Set"
      ]
    },
    {
      "cell_type": "code",
      "execution_count": 16,
      "metadata": {
        "colab": {
          "base_uri": "https://localhost:8080/"
        },
        "id": "pV-cf8C6KCCS",
        "outputId": "b1e1db7d-50ac-4408-da74-628b0c5ea7e5"
      },
      "outputs": [
        {
          "output_type": "stream",
          "name": "stdout",
          "text": [
            "Cross Validation Scores (for tuned model):  [0.93333333 1.         1.         1.         1.        ]\n",
            "F1:  1.0\n",
            "Accuracy:  1.0\n"
          ]
        }
      ],
      "source": [
        "from sklearn.metrics import accuracy_score, precision_score, recall_score\n",
        "\n",
        "\n",
        "tuned_model_lr = LogisticRegression(**best_params_lr)\n",
        "cv_scores_tuned_lr = cross_val_score(tuned_model_lr, X_train, y_train, cv=5, scoring='accuracy')\n",
        "tuned_model_lr.fit(X_train, y_train)\n",
        "y_pred_lr_val = tuned_model_lr.predict(X_val)\n",
        "\n",
        "accuracy_lr_val = accuracy_score(y_val, y_pred_lr_val)\n",
        "precision_lr_val = precision_score(y_val, y_pred_lr_val)\n",
        "recall_lr_val = recall_score(y_val, y_pred_lr_val)\n",
        "\n",
        "F1_lr_val = 2 * (precision_lr_val * recall_lr_val) / (precision_lr_val + recall_lr_val)\n",
        "\n",
        "print(\"Cross Validation Scores (for tuned model): \",cv_scores_tuned_lr)\n",
        "print(\"F1: \",F1_lr_val)\n",
        "print(\"Accuracy: \",accuracy_lr_val)"
      ]
    },
    {
      "cell_type": "markdown",
      "metadata": {
        "id": "PXp4grMYOzPF"
      },
      "source": [
        "####Model Evaluation on Test Set"
      ]
    },
    {
      "cell_type": "code",
      "execution_count": 17,
      "metadata": {
        "colab": {
          "base_uri": "https://localhost:8080/"
        },
        "id": "vvd2xpl7O4B0",
        "outputId": "5aa6e058-4411-44c0-f407-69527246faaa"
      },
      "outputs": [
        {
          "output_type": "stream",
          "name": "stdout",
          "text": [
            "F1:  1.0\n",
            "Accuracy:  1.0\n"
          ]
        }
      ],
      "source": [
        "y_pred_lr_test = tuned_model_lr.predict(X_test)\n",
        "\n",
        "accuracy_lr_test = accuracy_score(y_test, y_pred_lr_test)\n",
        "precision_lr_test = precision_score(y_test, y_pred_lr_test)\n",
        "recall_lr_test = recall_score(y_test, y_pred_lr_test)\n",
        "\n",
        "F1_lr_test = 2 * (precision_lr_test * recall_lr_test) / (precision_lr_test + recall_lr_test)\n",
        "print(\"F1: \",F1_lr_test)\n",
        "print(\"Accuracy: \",accuracy_lr_test)"
      ]
    },
    {
      "cell_type": "markdown",
      "metadata": {
        "id": "jSePGeOmIjQH"
      },
      "source": [
        "###SVM Model"
      ]
    },
    {
      "cell_type": "markdown",
      "metadata": {
        "id": "-ypkarfmI1oo"
      },
      "source": [
        "####Model Training"
      ]
    },
    {
      "cell_type": "code",
      "execution_count": 18,
      "metadata": {
        "colab": {
          "base_uri": "https://localhost:8080/"
        },
        "id": "I4nWR_CBBPm2",
        "outputId": "8cb0cbd2-e8b8-4dfc-de68-68158c936170"
      },
      "outputs": [
        {
          "output_type": "stream",
          "name": "stdout",
          "text": [
            "Cross Validation Scores: [0.93333333 1.         1.         0.85714286 1.        ]\n"
          ]
        }
      ],
      "source": [
        "from sklearn.model_selection import cross_val_score\n",
        "from sklearn.svm import SVC\n",
        "\n",
        "svm_model = SVC(random_state=0)\n",
        "cv_scores_svm = cross_val_score(svm_model, X_train, y_train, cv=5, scoring='accuracy')\n",
        "svm_model.fit(X_train, y_train)\n",
        "\n",
        "print(\"Cross Validation Scores:\", cv_scores_svm)"
      ]
    },
    {
      "cell_type": "markdown",
      "metadata": {
        "id": "LfHENDHwI_mz"
      },
      "source": [
        "####Hyperparameter Tuning"
      ]
    },
    {
      "cell_type": "code",
      "execution_count": 19,
      "metadata": {
        "colab": {
          "base_uri": "https://localhost:8080/"
        },
        "id": "AhK2mMl1jgFP",
        "outputId": "ea0b058c-4fc1-4fa8-9ae7-2a63db9156c7"
      },
      "outputs": [
        {
          "output_type": "stream",
          "name": "stdout",
          "text": [
            "best parameters:  {'C': 10, 'gamma': 0.1, 'kernel': 'sigmoid', 'random_state': 0}\n"
          ]
        }
      ],
      "source": [
        "from sklearn.model_selection import GridSearchCV\n",
        "\n",
        "C = [0.1, 1, 10]\n",
        "gamma = ['scale', 'auto', 1, 0.1, 0.01]\n",
        "kernel = ['rbf', 'poly', 'sigmoid']\n",
        "random_state = [0]\n",
        "\n",
        "param_grid_svm = {'C': C,\n",
        "                  'gamma': gamma,\n",
        "                  'kernel': kernel,\n",
        "                  'random_state': random_state}\n",
        "base_model_svm = SVC()\n",
        "grid_search_svm = GridSearchCV(estimator=base_model_svm, param_grid=param_grid_svm, cv=5, scoring='accuracy')\n",
        "\n",
        "grid_search_svm.fit(X_train, y_train)\n",
        "best_params_svm = grid_search_svm.best_params_\n",
        "print(\"best parameters: \",best_params_svm)"
      ]
    },
    {
      "cell_type": "markdown",
      "metadata": {
        "id": "K1BnkUcpJEjg"
      },
      "source": [
        "####Model Evaluation on Validation Set"
      ]
    },
    {
      "cell_type": "code",
      "execution_count": 20,
      "metadata": {
        "colab": {
          "base_uri": "https://localhost:8080/"
        },
        "id": "oygmWO_G4zZl",
        "outputId": "aba2f7af-c576-4d3d-c412-662dc2fc1bf0"
      },
      "outputs": [
        {
          "output_type": "stream",
          "name": "stdout",
          "text": [
            "Cross Validation Scores (for tuned model):  [0.93333333 1.         1.         1.         1.        ]\n",
            "F1:  1.0\n",
            "Accuracy:  1.0\n"
          ]
        }
      ],
      "source": [
        "from sklearn.metrics import accuracy_score, precision_score, recall_score\n",
        "\n",
        "tuned_model_svm = SVC(**best_params_svm)\n",
        "cv_scores_tuned_svm = cross_val_score(tuned_model_svm, X_train, y_train, cv=5, scoring='accuracy')\n",
        "tuned_model_svm.fit(X_train, y_train)\n",
        "y_pred_svm_val = tuned_model_svm.predict(X_val)\n",
        "\n",
        "accuracy_svm_val = accuracy_score(y_val, y_pred_svm_val)\n",
        "precision_svm_val = precision_score(y_val, y_pred_svm_val)\n",
        "recall_svm_val = recall_score(y_val, y_pred_svm_val)\n",
        "\n",
        "F1_svm_val = 2 * (precision_svm_val * recall_svm_val) / (precision_svm_val + recall_svm_val)\n",
        "\n",
        "print(\"Cross Validation Scores (for tuned model): \",cv_scores_tuned_svm)\n",
        "print(\"F1: \",F1_svm_val)\n",
        "print(\"Accuracy: \",accuracy_svm_val)"
      ]
    },
    {
      "cell_type": "markdown",
      "metadata": {
        "id": "7Yzu7NcUJRtA"
      },
      "source": [
        "####Model Evaluation on Test Set"
      ]
    },
    {
      "cell_type": "code",
      "execution_count": 21,
      "metadata": {
        "colab": {
          "base_uri": "https://localhost:8080/"
        },
        "id": "qYnGiSqNByWa",
        "outputId": "4cc544e1-2921-43bb-a44a-f85b6cd9dec6"
      },
      "outputs": [
        {
          "output_type": "stream",
          "name": "stdout",
          "text": [
            "F1:  1.0\n",
            "Accuracy:  1.0\n"
          ]
        }
      ],
      "source": [
        "y_pred_svm_test = tuned_model_svm.predict(X_test)\n",
        "\n",
        "accuracy_svm_test = accuracy_score(y_test, y_pred_svm_test)\n",
        "precision_svm_test = precision_score(y_test, y_pred_svm_test)\n",
        "recall_svm_test = recall_score(y_test, y_pred_svm_test)\n",
        "\n",
        "F1_svm_test = 2 * (precision_svm_test * recall_svm_test) / (precision_svm_test + recall_svm_test)\n",
        "print(\"F1: \",F1_svm_test)\n",
        "print(\"Accuracy: \",accuracy_svm_test)"
      ]
    },
    {
      "cell_type": "markdown",
      "metadata": {
        "id": "-Ai1cOK-PsLy"
      },
      "source": [
        "###Naive Bayes Model"
      ]
    },
    {
      "cell_type": "markdown",
      "metadata": {
        "id": "r8GJlA4TPv0v"
      },
      "source": [
        "####Model Training"
      ]
    },
    {
      "cell_type": "code",
      "execution_count": 22,
      "metadata": {
        "colab": {
          "base_uri": "https://localhost:8080/"
        },
        "id": "Qfn-juJoPvTb",
        "outputId": "bce578de-9fb4-4a76-bc85-6fc76bece1cc"
      },
      "outputs": [
        {
          "output_type": "stream",
          "name": "stdout",
          "text": [
            "Cross Validation Scores: [0.86666667 1.         0.78571429 0.85714286 0.78571429]\n"
          ]
        }
      ],
      "source": [
        "from sklearn.naive_bayes import GaussianNB\n",
        "from sklearn.model_selection import cross_val_score\n",
        "\n",
        "nb_model = GaussianNB()\n",
        "cv_scores_nb = cross_val_score(nb_model, X_train, y_train, cv=5, scoring='accuracy')\n",
        "nb_model.fit(X_train, y_train)\n",
        "\n",
        "print(\"Cross Validation Scores:\", cv_scores_nb)"
      ]
    },
    {
      "cell_type": "markdown",
      "metadata": {
        "id": "s9wnLpgmS7EV"
      },
      "source": [
        "####Hyperparameter Tuning"
      ]
    },
    {
      "cell_type": "code",
      "execution_count": 23,
      "metadata": {
        "colab": {
          "base_uri": "https://localhost:8080/"
        },
        "id": "UpalnEteTBDw",
        "outputId": "29a1acb2-6c0f-4a7d-bb86-203a28a66891"
      },
      "outputs": [
        {
          "output_type": "stream",
          "name": "stdout",
          "text": [
            "best parameters:  {'var_smoothing': 0.8111308307896871}\n"
          ]
        }
      ],
      "source": [
        "from sklearn.model_selection import GridSearchCV\n",
        "\n",
        "var_smoothing = np.logspace(0,-9, num=100)\n",
        "\n",
        "param_grid_nb = {'var_smoothing': var_smoothing}\n",
        "base_model_nb = GaussianNB()\n",
        "grid_search_nb = GridSearchCV(estimator=base_model_nb, param_grid=param_grid_nb, cv=5, scoring='accuracy')\n",
        "\n",
        "grid_search_nb.fit(X_train, y_train)\n",
        "best_params_nb = grid_search_nb.best_params_\n",
        "print(\"best parameters: \",best_params_nb)"
      ]
    },
    {
      "cell_type": "markdown",
      "metadata": {
        "id": "vn9AAzJoXVts"
      },
      "source": [
        "####Evaluating Model on Validation Set"
      ]
    },
    {
      "cell_type": "code",
      "execution_count": 24,
      "metadata": {
        "colab": {
          "base_uri": "https://localhost:8080/"
        },
        "id": "_RqTi-KjXZgv",
        "outputId": "a3379797-1dc7-4203-a78f-1bf76773702b"
      },
      "outputs": [
        {
          "output_type": "stream",
          "name": "stdout",
          "text": [
            "Cross Validation Scores (for tuned model):  [0.93333333 1.         1.         0.85714286 0.78571429]\n",
            "F1:  0.9411764705882353\n",
            "Accuracy:  0.9375\n"
          ]
        }
      ],
      "source": [
        "from sklearn.metrics import accuracy_score, precision_score, recall_score\n",
        "\n",
        "tuned_model_nb = GaussianNB(**best_params_nb)\n",
        "cv_scores_tuned_nb = cross_val_score(tuned_model_nb, X_train, y_train, cv=5, scoring='accuracy')\n",
        "tuned_model_nb.fit(X_train, y_train)\n",
        "y_pred_nb_val = tuned_model_nb.predict(X_val)\n",
        "\n",
        "accuracy_nb_val = accuracy_score(y_val, y_pred_nb_val)\n",
        "precision_nb_val = precision_score(y_val, y_pred_nb_val)\n",
        "recall_nb_val = recall_score(y_val, y_pred_nb_val)\n",
        "\n",
        "F1_nb_val = 2 * (precision_nb_val * recall_nb_val) / (precision_nb_val + recall_nb_val)\n",
        "\n",
        "print(\"Cross Validation Scores (for tuned model): \",cv_scores_tuned_nb)\n",
        "print(\"F1: \",F1_nb_val)\n",
        "print(\"Accuracy: \",accuracy_nb_val)"
      ]
    },
    {
      "cell_type": "markdown",
      "metadata": {
        "id": "9lqOnRqRYJCI"
      },
      "source": [
        "####Evaluating Model on Test Set"
      ]
    },
    {
      "cell_type": "code",
      "execution_count": 25,
      "metadata": {
        "colab": {
          "base_uri": "https://localhost:8080/"
        },
        "id": "lMTQeMnLYN6b",
        "outputId": "f1be4824-196c-4679-c69d-10fa27f63444"
      },
      "outputs": [
        {
          "output_type": "stream",
          "name": "stdout",
          "text": [
            "F1:  1.0\n",
            "Accuracy:  1.0\n"
          ]
        }
      ],
      "source": [
        "y_pred_nb_test = tuned_model_nb.predict(X_test)\n",
        "\n",
        "accuracy_nb_test = accuracy_score(y_test, y_pred_nb_test)\n",
        "precision_nb_test = precision_score(y_test, y_pred_nb_test)\n",
        "recall_nb_test = recall_score(y_test, y_pred_nb_test)\n",
        "\n",
        "F1_nb_test = 2 * (precision_nb_test * recall_nb_test) / (precision_nb_test + recall_nb_test)\n",
        "print(\"F1: \",F1_nb_test)\n",
        "print(\"Accuracy: \",accuracy_nb_test)"
      ]
    },
    {
      "cell_type": "markdown",
      "metadata": {
        "id": "sF-L8TgVtTmz"
      },
      "source": [
        "#[TF IDF Model](https://www.geeksforgeeks.org/understanding-tf-idf-term-frequency-inverse-document-frequency/)"
      ]
    },
    {
      "cell_type": "markdown",
      "metadata": {
        "id": "324d18s8lKn6"
      },
      "source": [
        "###Get TF IDF Values"
      ]
    },
    {
      "cell_type": "code",
      "execution_count": null,
      "metadata": {
        "id": "rMUhD1JetbDG"
      },
      "outputs": [],
      "source": [
        "from sklearn.feature_extraction.text import TfidfVectorizer\n",
        "\n",
        "tfidf = TfidfVectorizer(stop_words='english')\n",
        "\n",
        "# get tf-idf values using string created for b.o.w.\n",
        "tfidf_value = tfidf.fit_transform(data_concat_list)\n",
        "\n",
        "terms = tfidf.get_feature_names_out()\n",
        "idf_scores = tfidf.idf_\n",
        "terms_idf_scores = list(zip(terms, idf_scores))\n",
        "terms_idf_scores.sort(key=lambda x: x[1], reverse=True)\n",
        "\n",
        "# get idf values\n",
        "print('\\nidf values:')\n",
        "for ele1, ele2 in terms_idf_scores:\n",
        "    print(ele1, ':', ele2)\n",
        "\n",
        "# get indexing\n",
        "print('\\nWord indexes:')\n",
        "print(tfidf.vocabulary_)\n",
        "\n",
        "# display tf-idf values\n",
        "print('\\ntf-idf value:')\n",
        "print(tfidf_value)"
      ]
    },
    {
      "cell_type": "code",
      "execution_count": null,
      "metadata": {
        "id": "Iw96mVG4yzIO"
      },
      "outputs": [],
      "source": [
        "# TF IDF values in descending order\n",
        "tfidf_scores = tfidf_value.max(0).toarray()[0]\n",
        "tfidf_dict = dict(zip(terms, tfidf_scores))\n",
        "\n",
        "sorted_tfidf = sorted(tfidf_dict.items(), key=lambda x: x[1], reverse=True)\n",
        "for term, score in sorted_tfidf:\n",
        "    print(f'Term: {term}, TF-IDF Score: {score}')"
      ]
    },
    {
      "cell_type": "code",
      "execution_count": 28,
      "metadata": {
        "colab": {
          "base_uri": "https://localhost:8080/"
        },
        "id": "npwLKusXmKOq",
        "outputId": "7e518f3c-1292-4391-b01a-37c4dbe3084b"
      },
      "outputs": [
        {
          "output_type": "stream",
          "name": "stdout",
          "text": [
            "\n",
            "tf-idf values in matrix form:\n",
            "[[0.         0.         0.         ... 0.         0.         0.        ]\n",
            " [0.         0.         0.         ... 0.         0.         0.        ]\n",
            " [0.         0.         0.         ... 0.         0.         0.        ]\n",
            " ...\n",
            " [0.         0.         0.         ... 0.         0.27717586 0.        ]\n",
            " [0.         0.         0.         ... 0.         0.         0.        ]\n",
            " [0.         0.         0.         ... 0.         0.         0.        ]]\n",
            "(104, 271)\n"
          ]
        }
      ],
      "source": [
        "# TF IDF values matrix\n",
        "tfidf_matrix = tfidf_value.toarray()\n",
        "print('\\ntf-idf values in matrix form:')\n",
        "print(tfidf_matrix)\n",
        "print(tfidf_matrix.shape)"
      ]
    },
    {
      "cell_type": "markdown",
      "metadata": {
        "id": "xeSqcJF_mzQs"
      },
      "source": [
        "###Labeling Data"
      ]
    },
    {
      "cell_type": "code",
      "execution_count": 29,
      "metadata": {
        "colab": {
          "base_uri": "https://localhost:8080/"
        },
        "id": "7q59gX8BnMAI",
        "outputId": "9571cff8-84f3-4214-b8a0-0e2c601ff1da"
      },
      "outputs": [
        {
          "output_type": "stream",
          "name": "stdout",
          "text": [
            "[[0.         0.         0.         ... 0.         0.         1.        ]\n",
            " [0.         0.         0.         ... 0.         0.         0.        ]\n",
            " [0.         0.         0.         ... 0.         0.         1.        ]\n",
            " ...\n",
            " [0.         0.         0.         ... 0.27717586 0.         0.        ]\n",
            " [0.         0.         0.         ... 0.         0.         0.        ]\n",
            " [0.         0.         0.         ... 0.         0.         0.        ]]\n",
            "(104, 272)\n"
          ]
        }
      ],
      "source": [
        "# adding target array to TF IDF matrix\n",
        "complete_array_tfidf = np.append(tfidf_matrix, target_array, axis=1)\n",
        "\n",
        "print(complete_array_tfidf)\n",
        "print(complete_array_tfidf.shape)"
      ]
    },
    {
      "cell_type": "markdown",
      "metadata": {
        "id": "-cs2doAopZv7"
      },
      "source": [
        "###Splitting the Data"
      ]
    },
    {
      "cell_type": "code",
      "execution_count": 30,
      "metadata": {
        "id": "GrjDI060pblL"
      },
      "outputs": [],
      "source": [
        "from sklearn.model_selection import train_test_split\n",
        "X_tfidf = np.delete(complete_array_tfidf, [271], axis=1)\n",
        "y_tfidf = complete_array_tfidf[:, [271]]\n",
        "\n",
        "X_train_tfidf, X_temp_tfidf, y_train_tfidf, y_temp_tfidf = train_test_split(\n",
        "    X_tfidf, y_tfidf, test_size=0.30, random_state=0\n",
        ")\n",
        "X_val_tfidf, X_test_tfidf, y_val_tfidf, y_test_tfidf = train_test_split(\n",
        "    X_temp_tfidf, y_temp_tfidf, test_size=0.5, random_state=0\n",
        ")"
      ]
    },
    {
      "cell_type": "code",
      "execution_count": null,
      "metadata": {
        "id": "ZQKjndiyp0iE"
      },
      "outputs": [],
      "source": [
        "print(\"y_val: \",y_val_tfidf)\n",
        "print(\"y_test: \",y_test_tfidf)"
      ]
    },
    {
      "cell_type": "markdown",
      "metadata": {
        "id": "vMeFcmXLpzXW"
      },
      "source": [
        "##Classification Models"
      ]
    },
    {
      "cell_type": "markdown",
      "metadata": {
        "id": "kf4BLJrlqmPN"
      },
      "source": [
        "###Logistic Regression"
      ]
    },
    {
      "cell_type": "markdown",
      "metadata": {
        "id": "cgS7HQMermSi"
      },
      "source": [
        "####Model Training"
      ]
    },
    {
      "cell_type": "code",
      "execution_count": 32,
      "metadata": {
        "colab": {
          "base_uri": "https://localhost:8080/"
        },
        "id": "dc-2ExFqqpGx",
        "outputId": "a85e9ad4-6927-404f-c6c4-15b6668b42de"
      },
      "outputs": [
        {
          "output_type": "stream",
          "name": "stdout",
          "text": [
            "Cross Validation Scores:  [0.86666667 0.8        0.78571429 0.85714286 0.71428571]\n"
          ]
        }
      ],
      "source": [
        "import warnings\n",
        "warnings.filterwarnings(\"ignore\")\n",
        "\n",
        "from sklearn.linear_model import LogisticRegression\n",
        "from sklearn.model_selection import cross_val_score\n",
        "\n",
        "lr_model = LogisticRegression(random_state=0)\n",
        "cv_scores_lr_tfidf = cross_val_score(lr_model, X_train_tfidf, y_train_tfidf, cv=5, scoring='accuracy')\n",
        "lr_model.fit(X_train_tfidf, y_train_tfidf)\n",
        "\n",
        "print(\"Cross Validation Scores: \", cv_scores_lr_tfidf)"
      ]
    },
    {
      "cell_type": "markdown",
      "metadata": {
        "id": "ZdJc4EaNrpIT"
      },
      "source": [
        "####Hyperparameter Tuning"
      ]
    },
    {
      "cell_type": "code",
      "execution_count": 33,
      "metadata": {
        "colab": {
          "base_uri": "https://localhost:8080/"
        },
        "id": "AlxYrBgArd8h",
        "outputId": "3f2269a6-1e1b-450c-b9d3-2ab9c5dfe0bf"
      },
      "outputs": [
        {
          "output_type": "stream",
          "name": "stdout",
          "text": [
            "best parameters:  {'C': 10, 'penalty': 'l1', 'random_state': 0, 'solver': 'liblinear'}\n"
          ]
        }
      ],
      "source": [
        "from sklearn.model_selection import GridSearchCV\n",
        "\n",
        "solver = ['newton-cg', 'lbfgs', 'liblinear', 'sag', 'saga']\n",
        "penalty = ['l1', 'l2', 'elasticnet']\n",
        "penalty.append(None)\n",
        "C = [10, 1, 0.1, 0.01]\n",
        "random_state = [0]\n",
        "\n",
        "param_grid_lr = {'solver': solver,\n",
        "                 'penalty': penalty,\n",
        "                 'C': C,\n",
        "                 'random_state': random_state}\n",
        "base_model_lr = LogisticRegression()\n",
        "grid_search_lr = GridSearchCV(estimator=base_model_lr, param_grid=param_grid_lr, cv=5, scoring='accuracy')\n",
        "\n",
        "grid_search_lr.fit(X_train_tfidf, y_train_tfidf)\n",
        "best_params_lr_tfidf = grid_search_lr.best_params_\n",
        "print(\"best parameters: \",best_params_lr_tfidf)"
      ]
    },
    {
      "cell_type": "markdown",
      "metadata": {
        "id": "yUnA1kG2sYCu"
      },
      "source": [
        "####Evaluating Model on Validation Set"
      ]
    },
    {
      "cell_type": "code",
      "execution_count": 34,
      "metadata": {
        "colab": {
          "base_uri": "https://localhost:8080/"
        },
        "id": "QaxUX7P_sb6M",
        "outputId": "fc5b8151-adcf-430a-b4ab-499841bd3729"
      },
      "outputs": [
        {
          "output_type": "stream",
          "name": "stdout",
          "text": [
            "Cross Validation Scores (for tuned model):  [1.         1.         1.         0.92857143 1.        ]\n",
            "F1:  0.9411764705882353\n",
            "Accuracy:  0.9375\n"
          ]
        }
      ],
      "source": [
        "from sklearn.metrics import accuracy_score, precision_score, recall_score\n",
        "\n",
        "tuned_model_lr_tfidf = LogisticRegression(**best_params_lr_tfidf)\n",
        "cv_scores_tuned_lr_tfidf = cross_val_score(tuned_model_lr_tfidf, X_train_tfidf, y_train_tfidf, cv=5, scoring='accuracy')\n",
        "tuned_model_lr_tfidf.fit(X_train_tfidf, y_train_tfidf)\n",
        "y_pred_lr_val_tfidf = tuned_model_lr_tfidf.predict(X_val_tfidf)\n",
        "\n",
        "accuracy_lr_val_tfidf = accuracy_score(y_val_tfidf, y_pred_lr_val_tfidf)\n",
        "precision_lr_val_tfidf = precision_score(y_val_tfidf, y_pred_lr_val_tfidf)\n",
        "recall_lr_val_tfidf = recall_score(y_val_tfidf, y_pred_lr_val_tfidf)\n",
        "\n",
        "F1_lr_val_tfidf = 2 * (precision_lr_val_tfidf * recall_lr_val_tfidf) / (precision_lr_val_tfidf + recall_lr_val_tfidf)\n",
        "\n",
        "print(\"Cross Validation Scores (for tuned model): \",cv_scores_tuned_lr_tfidf)\n",
        "print(\"F1: \",F1_lr_val_tfidf)\n",
        "print(\"Accuracy: \",accuracy_lr_val_tfidf)"
      ]
    },
    {
      "cell_type": "markdown",
      "metadata": {
        "id": "BzyA_pIEt0c5"
      },
      "source": [
        "####Evaluation Model on Test Set"
      ]
    },
    {
      "cell_type": "code",
      "execution_count": 35,
      "metadata": {
        "colab": {
          "base_uri": "https://localhost:8080/"
        },
        "id": "w0yRzQ7Tt4FR",
        "outputId": "bd4f4cdd-671c-4df0-b788-d04f1cd30e64"
      },
      "outputs": [
        {
          "output_type": "stream",
          "name": "stdout",
          "text": [
            "F1:  1.0\n",
            "Accuracy:  1.0\n"
          ]
        }
      ],
      "source": [
        "y_pred_lr_test_tfidf = tuned_model_lr_tfidf.predict(X_test_tfidf)\n",
        "\n",
        "accuracy_lr_test_tfidf = accuracy_score(y_test_tfidf, y_pred_lr_test_tfidf)\n",
        "precision_lr_test_tfidf = precision_score(y_test_tfidf, y_pred_lr_test_tfidf)\n",
        "recall_lr_test_tfidf = recall_score(y_test_tfidf, y_pred_lr_test_tfidf)\n",
        "\n",
        "F1_lr_test_tfidf = 2 * (precision_lr_test_tfidf * recall_lr_test_tfidf) / (precision_lr_test_tfidf + recall_lr_test_tfidf)\n",
        "print(\"F1: \",F1_lr_test_tfidf)\n",
        "print(\"Accuracy: \",accuracy_lr_test_tfidf)"
      ]
    },
    {
      "cell_type": "markdown",
      "metadata": {
        "id": "4NEwi04cu_gI"
      },
      "source": [
        "###SVM Model"
      ]
    },
    {
      "cell_type": "markdown",
      "metadata": {
        "id": "t9G7rCEcvC0e"
      },
      "source": [
        "####Model Training"
      ]
    },
    {
      "cell_type": "code",
      "execution_count": 36,
      "metadata": {
        "colab": {
          "base_uri": "https://localhost:8080/"
        },
        "id": "cuY8a5EpvHKx",
        "outputId": "59849497-49c6-4e31-c0f8-079153d3b9fe"
      },
      "outputs": [
        {
          "output_type": "stream",
          "name": "stdout",
          "text": [
            "Cross Validation Scores: [0.93333333 0.8        0.92857143 0.92857143 0.64285714]\n"
          ]
        }
      ],
      "source": [
        "from sklearn.model_selection import cross_val_score\n",
        "from sklearn.svm import SVC\n",
        "\n",
        "svm_model = SVC(random_state=0)\n",
        "cv_scores_svm_tfidf = cross_val_score(svm_model, X_train_tfidf, y_train_tfidf, cv=5, scoring='accuracy')\n",
        "svm_model.fit(X_train_tfidf, y_train_tfidf)\n",
        "\n",
        "print(\"Cross Validation Scores:\", cv_scores_svm_tfidf)"
      ]
    },
    {
      "cell_type": "markdown",
      "metadata": {
        "id": "B84Q9R0twiyp"
      },
      "source": [
        "####Hyperparameter Tuning"
      ]
    },
    {
      "cell_type": "code",
      "execution_count": 37,
      "metadata": {
        "colab": {
          "base_uri": "https://localhost:8080/"
        },
        "id": "dzBlm1FqwnZT",
        "outputId": "5cf0ff7c-3d23-48f9-93fd-fd0d68b10b90"
      },
      "outputs": [
        {
          "output_type": "stream",
          "name": "stdout",
          "text": [
            "best parameters:  {'C': 1, 'gamma': 'scale', 'kernel': 'poly', 'random_state': 0}\n"
          ]
        }
      ],
      "source": [
        "from sklearn.model_selection import GridSearchCV\n",
        "\n",
        "C = [0.1, 1, 10]\n",
        "gamma = ['scale', 'auto', 1, 0.1, 0.01]\n",
        "kernel = ['rbf', 'poly', 'sigmoid']\n",
        "random_state = [0]\n",
        "\n",
        "param_grid_svm = {'C': C,\n",
        "                  'gamma': gamma,\n",
        "                  'kernel': kernel,\n",
        "                  'random_state': random_state}\n",
        "base_model_svm = SVC()\n",
        "grid_search_svm = GridSearchCV(estimator=base_model_svm, param_grid=param_grid_svm, cv=5, scoring='accuracy')\n",
        "\n",
        "grid_search_svm.fit(X_train_tfidf, y_train_tfidf)\n",
        "best_params_svm_tfidf = grid_search_svm.best_params_\n",
        "print(\"best parameters: \",best_params_svm_tfidf)"
      ]
    },
    {
      "cell_type": "markdown",
      "metadata": {
        "id": "Cm3OAo5xxLmp"
      },
      "source": [
        "####Evaluating Model on Validation Set"
      ]
    },
    {
      "cell_type": "code",
      "execution_count": 38,
      "metadata": {
        "colab": {
          "base_uri": "https://localhost:8080/"
        },
        "id": "jfm_WwtdxPPa",
        "outputId": "3c2427ba-de0a-4665-fea6-3c8e3780ab29"
      },
      "outputs": [
        {
          "output_type": "stream",
          "name": "stdout",
          "text": [
            "Cross Validation Scores (for tuned model):  [0.93333333 1.         0.92857143 0.92857143 0.78571429]\n",
            "F1:  0.8750000000000001\n",
            "Accuracy:  0.875\n"
          ]
        }
      ],
      "source": [
        "from sklearn.metrics import accuracy_score, precision_score, recall_score\n",
        "\n",
        "tuned_model_svm_tfidf = SVC(**best_params_svm_tfidf)\n",
        "cv_scores_tuned_svm_tfidf = cross_val_score(tuned_model_svm_tfidf, X_train_tfidf, y_train_tfidf, cv=5, scoring='accuracy')\n",
        "tuned_model_svm_tfidf.fit(X_train_tfidf, y_train_tfidf)\n",
        "y_pred_svm_val_tfidf = tuned_model_svm_tfidf.predict(X_val_tfidf)\n",
        "\n",
        "accuracy_svm_val_tfidf = accuracy_score(y_val_tfidf, y_pred_svm_val_tfidf)\n",
        "precision_svm_val_tfidf = precision_score(y_val_tfidf, y_pred_svm_val_tfidf)\n",
        "recall_svm_val_tfidf = recall_score(y_val_tfidf, y_pred_svm_val_tfidf)\n",
        "\n",
        "F1_svm_val_tfidf = 2 * (precision_svm_val_tfidf * recall_svm_val_tfidf) / (precision_svm_val_tfidf + recall_svm_val_tfidf)\n",
        "\n",
        "print(\"Cross Validation Scores (for tuned model): \",cv_scores_tuned_svm_tfidf)\n",
        "print(\"F1: \",F1_svm_val_tfidf)\n",
        "print(\"Accuracy: \",accuracy_svm_val_tfidf)"
      ]
    },
    {
      "cell_type": "markdown",
      "metadata": {
        "id": "fzgzP91GyDiv"
      },
      "source": [
        "####Evaluating Model on Test Set"
      ]
    },
    {
      "cell_type": "code",
      "execution_count": 39,
      "metadata": {
        "colab": {
          "base_uri": "https://localhost:8080/"
        },
        "id": "W1RMrR4DyHD8",
        "outputId": "00c340df-b22c-49f5-c741-4c56f33c4439"
      },
      "outputs": [
        {
          "output_type": "stream",
          "name": "stdout",
          "text": [
            "F1:  0.8750000000000001\n",
            "Accuracy:  0.875\n"
          ]
        }
      ],
      "source": [
        "y_pred_svm_test_tfidf = tuned_model_svm_tfidf.predict(X_test_tfidf)\n",
        "\n",
        "accuracy_svm_test_tfidf = accuracy_score(y_test_tfidf, y_pred_svm_test_tfidf)\n",
        "precision_svm_test_tfidf = precision_score(y_test_tfidf, y_pred_svm_test_tfidf)\n",
        "recall_svm_test_tfidf = recall_score(y_test_tfidf, y_pred_svm_test_tfidf)\n",
        "\n",
        "F1_svm_test_tfidf = 2 * (precision_svm_test_tfidf * recall_svm_test_tfidf) / (precision_svm_test_tfidf + recall_svm_test_tfidf)\n",
        "print(\"F1: \",F1_svm_test_tfidf)\n",
        "print(\"Accuracy: \",accuracy_svm_test_tfidf)"
      ]
    },
    {
      "cell_type": "markdown",
      "metadata": {
        "id": "VvxJiz1lyoPH"
      },
      "source": [
        "###Naive Bayes"
      ]
    },
    {
      "cell_type": "markdown",
      "metadata": {
        "id": "xhWuKeE6yqYb"
      },
      "source": [
        "####Model Training"
      ]
    },
    {
      "cell_type": "code",
      "execution_count": 40,
      "metadata": {
        "colab": {
          "base_uri": "https://localhost:8080/"
        },
        "id": "Ii6xcmzhytvf",
        "outputId": "cfa0134e-0cfe-4b38-a400-6a59a40df7f4"
      },
      "outputs": [
        {
          "output_type": "stream",
          "name": "stdout",
          "text": [
            "Cross Validation Scores: [0.86666667 0.93333333 0.71428571 0.92857143 0.64285714]\n"
          ]
        }
      ],
      "source": [
        "from sklearn.naive_bayes import GaussianNB\n",
        "from sklearn.model_selection import cross_val_score\n",
        "\n",
        "nb_model = GaussianNB()\n",
        "cv_scores_nb_tfidf = cross_val_score(nb_model, X_train_tfidf, y_train_tfidf, cv=5, scoring='accuracy')\n",
        "nb_model.fit(X_train_tfidf, y_train_tfidf)\n",
        "\n",
        "print(\"Cross Validation Scores:\", cv_scores_nb_tfidf)"
      ]
    },
    {
      "cell_type": "markdown",
      "metadata": {
        "id": "5aksHTFgzBwY"
      },
      "source": [
        "####Hyperparameter Tuning"
      ]
    },
    {
      "cell_type": "code",
      "execution_count": 41,
      "metadata": {
        "colab": {
          "base_uri": "https://localhost:8080/"
        },
        "id": "vQwFwl-pzEs9",
        "outputId": "36c60921-e54c-4ce1-c50a-d44b3a398879"
      },
      "outputs": [
        {
          "output_type": "stream",
          "name": "stdout",
          "text": [
            "best parameters:  {'var_smoothing': 0.005336699231206307}\n"
          ]
        }
      ],
      "source": [
        "from sklearn.model_selection import GridSearchCV\n",
        "\n",
        "var_smoothing = np.logspace(0,-9, num=100)\n",
        "\n",
        "param_grid_nb = {'var_smoothing': var_smoothing}\n",
        "base_model_nb = GaussianNB()\n",
        "grid_search_nb = GridSearchCV(estimator=base_model_nb, param_grid=param_grid_nb, cv=5, scoring='accuracy')\n",
        "\n",
        "grid_search_nb.fit(X_train_tfidf, y_train_tfidf)\n",
        "best_params_nb_tfidf = grid_search_nb.best_params_\n",
        "print(\"best parameters: \",best_params_nb_tfidf)"
      ]
    },
    {
      "cell_type": "markdown",
      "metadata": {
        "id": "bkn9EUwYzWFQ"
      },
      "source": [
        "####Evaluating Model on Validation Set"
      ]
    },
    {
      "cell_type": "code",
      "execution_count": 42,
      "metadata": {
        "colab": {
          "base_uri": "https://localhost:8080/"
        },
        "id": "tL3HtP8TzZXJ",
        "outputId": "14accc6c-c202-4a40-c99f-376851e3e68c"
      },
      "outputs": [
        {
          "output_type": "stream",
          "name": "stdout",
          "text": [
            "Cross Validation Scores (for tuned model):  [0.86666667 0.93333333 0.71428571 0.92857143 0.64285714]\n",
            "F1:  0.8421052631578948\n",
            "Accuracy:  0.8125\n"
          ]
        }
      ],
      "source": [
        "from sklearn.metrics import accuracy_score, precision_score, recall_score\n",
        "\n",
        "tuned_model_nb_tfidf = GaussianNB(**best_params_nb_tfidf)\n",
        "cv_scores_tuned_nb_tfidf = cross_val_score(tuned_model_nb_tfidf, X_train_tfidf, y_train_tfidf, cv=5, scoring='accuracy')\n",
        "tuned_model_nb_tfidf.fit(X_train_tfidf, y_train_tfidf)\n",
        "y_pred_nb_val_tfidf = tuned_model_nb_tfidf.predict(X_val_tfidf)\n",
        "\n",
        "accuracy_nb_val_tfidf = accuracy_score(y_val_tfidf, y_pred_nb_val_tfidf)\n",
        "precision_nb_val_tfidf = precision_score(y_val_tfidf, y_pred_nb_val_tfidf)\n",
        "recall_nb_val_tfidf = recall_score(y_val_tfidf, y_pred_nb_val_tfidf)\n",
        "\n",
        "F1_nb_val_tfidf = 2 * (precision_nb_val_tfidf * recall_nb_val_tfidf) / (precision_nb_val_tfidf + recall_nb_val_tfidf)\n",
        "\n",
        "print(\"Cross Validation Scores (for tuned model): \",cv_scores_tuned_nb_tfidf)\n",
        "print(\"F1: \",F1_nb_val_tfidf)\n",
        "print(\"Accuracy: \",accuracy_nb_val_tfidf)"
      ]
    },
    {
      "cell_type": "markdown",
      "source": [
        "####Evaluating Model on Test Set"
      ],
      "metadata": {
        "id": "KcMncLscEJOY"
      }
    },
    {
      "cell_type": "code",
      "source": [
        "y_pred_nb_test_tfidf = tuned_model_nb_tfidf.predict(X_test_tfidf)\n",
        "\n",
        "accuracy_nb_test_tfidf = accuracy_score(y_test_tfidf, y_pred_nb_test_tfidf)\n",
        "precision_nb_test_tfidf = precision_score(y_test_tfidf, y_pred_nb_test_tfidf)\n",
        "recall_nb_test_tfidf = recall_score(y_test_tfidf, y_pred_nb_test_tfidf)\n",
        "\n",
        "F1_nb_test_tfidf = 2 * (precision_nb_test_tfidf * recall_nb_test_tfidf) / (precision_nb_test_tfidf + recall_nb_test_tfidf)\n",
        "print(\"F1: \",F1_nb_test_tfidf)\n",
        "print(\"Accuracy: \",accuracy_nb_test_tfidf)"
      ],
      "metadata": {
        "colab": {
          "base_uri": "https://localhost:8080/"
        },
        "id": "hzuwIPhiENwS",
        "outputId": "c696c083-c62f-4c0f-cefc-1f8b88911b63"
      },
      "execution_count": 43,
      "outputs": [
        {
          "output_type": "stream",
          "name": "stdout",
          "text": [
            "F1:  0.8421052631578948\n",
            "Accuracy:  0.8125\n"
          ]
        }
      ]
    },
    {
      "cell_type": "markdown",
      "metadata": {
        "id": "51-eg_xV0p_k"
      },
      "source": [
        "# [Word2Vec Model](https://medium.com/@dilip.voleti/classification-using-word2vec-b1d79d375381)"
      ]
    },
    {
      "cell_type": "markdown",
      "metadata": {
        "id": "Gg8FvXVmfZ9_"
      },
      "source": [
        "###Preprocessing for Word2Vec"
      ]
    },
    {
      "cell_type": "code",
      "execution_count": null,
      "metadata": {
        "id": "MOx_B3C1hK3Q"
      },
      "outputs": [],
      "source": [
        "import nltk\n",
        "nltk.download()"
      ]
    },
    {
      "cell_type": "code",
      "execution_count": 66,
      "metadata": {
        "colab": {
          "base_uri": "https://localhost:8080/",
          "height": 206
        },
        "id": "g-pZRZvGFdPm",
        "outputId": "64d47bf5-d592-4bbf-d124-67f14b12b928"
      },
      "outputs": [
        {
          "output_type": "execute_result",
          "data": {
            "text/plain": [
              "                                                text  target\n",
              "0  2019 ct bauer college of business graduate mag...     1.0\n",
              "1  native english teacher at epik english program...     0.0\n",
              "2  aspiring human resources professional raleigh-...     1.0\n",
              "3  people development coordinator at ryan denton ...     0.0\n",
              "4  advisory board member at celal bayar universit...     0.0"
            ],
            "text/html": [
              "\n",
              "  <div id=\"df-c1451a46-afdc-456f-b6f8-ae3300877a9c\" class=\"colab-df-container\">\n",
              "    <div>\n",
              "<style scoped>\n",
              "    .dataframe tbody tr th:only-of-type {\n",
              "        vertical-align: middle;\n",
              "    }\n",
              "\n",
              "    .dataframe tbody tr th {\n",
              "        vertical-align: top;\n",
              "    }\n",
              "\n",
              "    .dataframe thead th {\n",
              "        text-align: right;\n",
              "    }\n",
              "</style>\n",
              "<table border=\"1\" class=\"dataframe\">\n",
              "  <thead>\n",
              "    <tr style=\"text-align: right;\">\n",
              "      <th></th>\n",
              "      <th>text</th>\n",
              "      <th>target</th>\n",
              "    </tr>\n",
              "  </thead>\n",
              "  <tbody>\n",
              "    <tr>\n",
              "      <th>0</th>\n",
              "      <td>2019 ct bauer college of business graduate mag...</td>\n",
              "      <td>1.0</td>\n",
              "    </tr>\n",
              "    <tr>\n",
              "      <th>1</th>\n",
              "      <td>native english teacher at epik english program...</td>\n",
              "      <td>0.0</td>\n",
              "    </tr>\n",
              "    <tr>\n",
              "      <th>2</th>\n",
              "      <td>aspiring human resources professional raleigh-...</td>\n",
              "      <td>1.0</td>\n",
              "    </tr>\n",
              "    <tr>\n",
              "      <th>3</th>\n",
              "      <td>people development coordinator at ryan denton ...</td>\n",
              "      <td>0.0</td>\n",
              "    </tr>\n",
              "    <tr>\n",
              "      <th>4</th>\n",
              "      <td>advisory board member at celal bayar universit...</td>\n",
              "      <td>0.0</td>\n",
              "    </tr>\n",
              "  </tbody>\n",
              "</table>\n",
              "</div>\n",
              "    <div class=\"colab-df-buttons\">\n",
              "\n",
              "  <div class=\"colab-df-container\">\n",
              "    <button class=\"colab-df-convert\" onclick=\"convertToInteractive('df-c1451a46-afdc-456f-b6f8-ae3300877a9c')\"\n",
              "            title=\"Convert this dataframe to an interactive table.\"\n",
              "            style=\"display:none;\">\n",
              "\n",
              "  <svg xmlns=\"http://www.w3.org/2000/svg\" height=\"24px\" viewBox=\"0 -960 960 960\">\n",
              "    <path d=\"M120-120v-720h720v720H120Zm60-500h600v-160H180v160Zm220 220h160v-160H400v160Zm0 220h160v-160H400v160ZM180-400h160v-160H180v160Zm440 0h160v-160H620v160ZM180-180h160v-160H180v160Zm440 0h160v-160H620v160Z\"/>\n",
              "  </svg>\n",
              "    </button>\n",
              "\n",
              "  <style>\n",
              "    .colab-df-container {\n",
              "      display:flex;\n",
              "      gap: 12px;\n",
              "    }\n",
              "\n",
              "    .colab-df-convert {\n",
              "      background-color: #E8F0FE;\n",
              "      border: none;\n",
              "      border-radius: 50%;\n",
              "      cursor: pointer;\n",
              "      display: none;\n",
              "      fill: #1967D2;\n",
              "      height: 32px;\n",
              "      padding: 0 0 0 0;\n",
              "      width: 32px;\n",
              "    }\n",
              "\n",
              "    .colab-df-convert:hover {\n",
              "      background-color: #E2EBFA;\n",
              "      box-shadow: 0px 1px 2px rgba(60, 64, 67, 0.3), 0px 1px 3px 1px rgba(60, 64, 67, 0.15);\n",
              "      fill: #174EA6;\n",
              "    }\n",
              "\n",
              "    .colab-df-buttons div {\n",
              "      margin-bottom: 4px;\n",
              "    }\n",
              "\n",
              "    [theme=dark] .colab-df-convert {\n",
              "      background-color: #3B4455;\n",
              "      fill: #D2E3FC;\n",
              "    }\n",
              "\n",
              "    [theme=dark] .colab-df-convert:hover {\n",
              "      background-color: #434B5C;\n",
              "      box-shadow: 0px 1px 3px 1px rgba(0, 0, 0, 0.15);\n",
              "      filter: drop-shadow(0px 1px 2px rgba(0, 0, 0, 0.3));\n",
              "      fill: #FFFFFF;\n",
              "    }\n",
              "  </style>\n",
              "\n",
              "    <script>\n",
              "      const buttonEl =\n",
              "        document.querySelector('#df-c1451a46-afdc-456f-b6f8-ae3300877a9c button.colab-df-convert');\n",
              "      buttonEl.style.display =\n",
              "        google.colab.kernel.accessAllowed ? 'block' : 'none';\n",
              "\n",
              "      async function convertToInteractive(key) {\n",
              "        const element = document.querySelector('#df-c1451a46-afdc-456f-b6f8-ae3300877a9c');\n",
              "        const dataTable =\n",
              "          await google.colab.kernel.invokeFunction('convertToInteractive',\n",
              "                                                    [key], {});\n",
              "        if (!dataTable) return;\n",
              "\n",
              "        const docLinkHtml = 'Like what you see? Visit the ' +\n",
              "          '<a target=\"_blank\" href=https://colab.research.google.com/notebooks/data_table.ipynb>data table notebook</a>'\n",
              "          + ' to learn more about interactive tables.';\n",
              "        element.innerHTML = '';\n",
              "        dataTable['output_type'] = 'display_data';\n",
              "        await google.colab.output.renderOutput(dataTable, element);\n",
              "        const docLink = document.createElement('div');\n",
              "        docLink.innerHTML = docLinkHtml;\n",
              "        element.appendChild(docLink);\n",
              "      }\n",
              "    </script>\n",
              "  </div>\n",
              "\n",
              "\n",
              "<div id=\"df-07b10ef0-af9e-4bc6-91f0-b693b319af13\">\n",
              "  <button class=\"colab-df-quickchart\" onclick=\"quickchart('df-07b10ef0-af9e-4bc6-91f0-b693b319af13')\"\n",
              "            title=\"Suggest charts.\"\n",
              "            style=\"display:none;\">\n",
              "\n",
              "<svg xmlns=\"http://www.w3.org/2000/svg\" height=\"24px\"viewBox=\"0 0 24 24\"\n",
              "     width=\"24px\">\n",
              "    <g>\n",
              "        <path d=\"M19 3H5c-1.1 0-2 .9-2 2v14c0 1.1.9 2 2 2h14c1.1 0 2-.9 2-2V5c0-1.1-.9-2-2-2zM9 17H7v-7h2v7zm4 0h-2V7h2v10zm4 0h-2v-4h2v4z\"/>\n",
              "    </g>\n",
              "</svg>\n",
              "  </button>\n",
              "\n",
              "<style>\n",
              "  .colab-df-quickchart {\n",
              "      --bg-color: #E8F0FE;\n",
              "      --fill-color: #1967D2;\n",
              "      --hover-bg-color: #E2EBFA;\n",
              "      --hover-fill-color: #174EA6;\n",
              "      --disabled-fill-color: #AAA;\n",
              "      --disabled-bg-color: #DDD;\n",
              "  }\n",
              "\n",
              "  [theme=dark] .colab-df-quickchart {\n",
              "      --bg-color: #3B4455;\n",
              "      --fill-color: #D2E3FC;\n",
              "      --hover-bg-color: #434B5C;\n",
              "      --hover-fill-color: #FFFFFF;\n",
              "      --disabled-bg-color: #3B4455;\n",
              "      --disabled-fill-color: #666;\n",
              "  }\n",
              "\n",
              "  .colab-df-quickchart {\n",
              "    background-color: var(--bg-color);\n",
              "    border: none;\n",
              "    border-radius: 50%;\n",
              "    cursor: pointer;\n",
              "    display: none;\n",
              "    fill: var(--fill-color);\n",
              "    height: 32px;\n",
              "    padding: 0;\n",
              "    width: 32px;\n",
              "  }\n",
              "\n",
              "  .colab-df-quickchart:hover {\n",
              "    background-color: var(--hover-bg-color);\n",
              "    box-shadow: 0 1px 2px rgba(60, 64, 67, 0.3), 0 1px 3px 1px rgba(60, 64, 67, 0.15);\n",
              "    fill: var(--button-hover-fill-color);\n",
              "  }\n",
              "\n",
              "  .colab-df-quickchart-complete:disabled,\n",
              "  .colab-df-quickchart-complete:disabled:hover {\n",
              "    background-color: var(--disabled-bg-color);\n",
              "    fill: var(--disabled-fill-color);\n",
              "    box-shadow: none;\n",
              "  }\n",
              "\n",
              "  .colab-df-spinner {\n",
              "    border: 2px solid var(--fill-color);\n",
              "    border-color: transparent;\n",
              "    border-bottom-color: var(--fill-color);\n",
              "    animation:\n",
              "      spin 1s steps(1) infinite;\n",
              "  }\n",
              "\n",
              "  @keyframes spin {\n",
              "    0% {\n",
              "      border-color: transparent;\n",
              "      border-bottom-color: var(--fill-color);\n",
              "      border-left-color: var(--fill-color);\n",
              "    }\n",
              "    20% {\n",
              "      border-color: transparent;\n",
              "      border-left-color: var(--fill-color);\n",
              "      border-top-color: var(--fill-color);\n",
              "    }\n",
              "    30% {\n",
              "      border-color: transparent;\n",
              "      border-left-color: var(--fill-color);\n",
              "      border-top-color: var(--fill-color);\n",
              "      border-right-color: var(--fill-color);\n",
              "    }\n",
              "    40% {\n",
              "      border-color: transparent;\n",
              "      border-right-color: var(--fill-color);\n",
              "      border-top-color: var(--fill-color);\n",
              "    }\n",
              "    60% {\n",
              "      border-color: transparent;\n",
              "      border-right-color: var(--fill-color);\n",
              "    }\n",
              "    80% {\n",
              "      border-color: transparent;\n",
              "      border-right-color: var(--fill-color);\n",
              "      border-bottom-color: var(--fill-color);\n",
              "    }\n",
              "    90% {\n",
              "      border-color: transparent;\n",
              "      border-bottom-color: var(--fill-color);\n",
              "    }\n",
              "  }\n",
              "</style>\n",
              "\n",
              "  <script>\n",
              "    async function quickchart(key) {\n",
              "      const quickchartButtonEl =\n",
              "        document.querySelector('#' + key + ' button');\n",
              "      quickchartButtonEl.disabled = true;  // To prevent multiple clicks.\n",
              "      quickchartButtonEl.classList.add('colab-df-spinner');\n",
              "      try {\n",
              "        const charts = await google.colab.kernel.invokeFunction(\n",
              "            'suggestCharts', [key], {});\n",
              "      } catch (error) {\n",
              "        console.error('Error during call to suggestCharts:', error);\n",
              "      }\n",
              "      quickchartButtonEl.classList.remove('colab-df-spinner');\n",
              "      quickchartButtonEl.classList.add('colab-df-quickchart-complete');\n",
              "    }\n",
              "    (() => {\n",
              "      let quickchartButtonEl =\n",
              "        document.querySelector('#df-07b10ef0-af9e-4bc6-91f0-b693b319af13 button');\n",
              "      quickchartButtonEl.style.display =\n",
              "        google.colab.kernel.accessAllowed ? 'block' : 'none';\n",
              "    })();\n",
              "  </script>\n",
              "</div>\n",
              "    </div>\n",
              "  </div>\n"
            ]
          },
          "metadata": {},
          "execution_count": 66
        }
      ],
      "source": [
        "data_concat_target = pd.DataFrame()\n",
        "data_concat_target[\"text\"] = data_concat[\"data_concat\"]\n",
        "data_concat_target[\"target\"] = target\n",
        "\n",
        "data_concat_target.head()"
      ]
    },
    {
      "cell_type": "code",
      "execution_count": 67,
      "metadata": {
        "colab": {
          "base_uri": "https://localhost:8080/",
          "height": 206
        },
        "id": "4TXXirhdFfN_",
        "outputId": "d3639391-369e-4868-fe5d-48171c25e3d4"
      },
      "outputs": [
        {
          "output_type": "execute_result",
          "data": {
            "text/plain": [
              "                                                text  target  \\\n",
              "0  2019 ct bauer college of business graduate mag...     1.0   \n",
              "1  native english teacher at epik english program...     0.0   \n",
              "2  aspiring human resources professional raleigh-...     1.0   \n",
              "3  people development coordinator at ryan denton ...     0.0   \n",
              "4  advisory board member at celal bayar universit...     0.0   \n",
              "\n",
              "                                          clean_text  \n",
              "0  2019 ct bauer college business graduate magna ...  \n",
              "1  native english teacher epik english program ko...  \n",
              "2  aspiring human resources professional raleigh-...  \n",
              "3  people development coordinator ryan denton tex...  \n",
              "4  advisory board member celal bayar university i...  "
            ],
            "text/html": [
              "\n",
              "  <div id=\"df-b9cf156b-6d1e-4779-a04c-eb5af710d953\" class=\"colab-df-container\">\n",
              "    <div>\n",
              "<style scoped>\n",
              "    .dataframe tbody tr th:only-of-type {\n",
              "        vertical-align: middle;\n",
              "    }\n",
              "\n",
              "    .dataframe tbody tr th {\n",
              "        vertical-align: top;\n",
              "    }\n",
              "\n",
              "    .dataframe thead th {\n",
              "        text-align: right;\n",
              "    }\n",
              "</style>\n",
              "<table border=\"1\" class=\"dataframe\">\n",
              "  <thead>\n",
              "    <tr style=\"text-align: right;\">\n",
              "      <th></th>\n",
              "      <th>text</th>\n",
              "      <th>target</th>\n",
              "      <th>clean_text</th>\n",
              "    </tr>\n",
              "  </thead>\n",
              "  <tbody>\n",
              "    <tr>\n",
              "      <th>0</th>\n",
              "      <td>2019 ct bauer college of business graduate mag...</td>\n",
              "      <td>1.0</td>\n",
              "      <td>2019 ct bauer college business graduate magna ...</td>\n",
              "    </tr>\n",
              "    <tr>\n",
              "      <th>1</th>\n",
              "      <td>native english teacher at epik english program...</td>\n",
              "      <td>0.0</td>\n",
              "      <td>native english teacher epik english program ko...</td>\n",
              "    </tr>\n",
              "    <tr>\n",
              "      <th>2</th>\n",
              "      <td>aspiring human resources professional raleigh-...</td>\n",
              "      <td>1.0</td>\n",
              "      <td>aspiring human resources professional raleigh-...</td>\n",
              "    </tr>\n",
              "    <tr>\n",
              "      <th>3</th>\n",
              "      <td>people development coordinator at ryan denton ...</td>\n",
              "      <td>0.0</td>\n",
              "      <td>people development coordinator ryan denton tex...</td>\n",
              "    </tr>\n",
              "    <tr>\n",
              "      <th>4</th>\n",
              "      <td>advisory board member at celal bayar universit...</td>\n",
              "      <td>0.0</td>\n",
              "      <td>advisory board member celal bayar university i...</td>\n",
              "    </tr>\n",
              "  </tbody>\n",
              "</table>\n",
              "</div>\n",
              "    <div class=\"colab-df-buttons\">\n",
              "\n",
              "  <div class=\"colab-df-container\">\n",
              "    <button class=\"colab-df-convert\" onclick=\"convertToInteractive('df-b9cf156b-6d1e-4779-a04c-eb5af710d953')\"\n",
              "            title=\"Convert this dataframe to an interactive table.\"\n",
              "            style=\"display:none;\">\n",
              "\n",
              "  <svg xmlns=\"http://www.w3.org/2000/svg\" height=\"24px\" viewBox=\"0 -960 960 960\">\n",
              "    <path d=\"M120-120v-720h720v720H120Zm60-500h600v-160H180v160Zm220 220h160v-160H400v160Zm0 220h160v-160H400v160ZM180-400h160v-160H180v160Zm440 0h160v-160H620v160ZM180-180h160v-160H180v160Zm440 0h160v-160H620v160Z\"/>\n",
              "  </svg>\n",
              "    </button>\n",
              "\n",
              "  <style>\n",
              "    .colab-df-container {\n",
              "      display:flex;\n",
              "      gap: 12px;\n",
              "    }\n",
              "\n",
              "    .colab-df-convert {\n",
              "      background-color: #E8F0FE;\n",
              "      border: none;\n",
              "      border-radius: 50%;\n",
              "      cursor: pointer;\n",
              "      display: none;\n",
              "      fill: #1967D2;\n",
              "      height: 32px;\n",
              "      padding: 0 0 0 0;\n",
              "      width: 32px;\n",
              "    }\n",
              "\n",
              "    .colab-df-convert:hover {\n",
              "      background-color: #E2EBFA;\n",
              "      box-shadow: 0px 1px 2px rgba(60, 64, 67, 0.3), 0px 1px 3px 1px rgba(60, 64, 67, 0.15);\n",
              "      fill: #174EA6;\n",
              "    }\n",
              "\n",
              "    .colab-df-buttons div {\n",
              "      margin-bottom: 4px;\n",
              "    }\n",
              "\n",
              "    [theme=dark] .colab-df-convert {\n",
              "      background-color: #3B4455;\n",
              "      fill: #D2E3FC;\n",
              "    }\n",
              "\n",
              "    [theme=dark] .colab-df-convert:hover {\n",
              "      background-color: #434B5C;\n",
              "      box-shadow: 0px 1px 3px 1px rgba(0, 0, 0, 0.15);\n",
              "      filter: drop-shadow(0px 1px 2px rgba(0, 0, 0, 0.3));\n",
              "      fill: #FFFFFF;\n",
              "    }\n",
              "  </style>\n",
              "\n",
              "    <script>\n",
              "      const buttonEl =\n",
              "        document.querySelector('#df-b9cf156b-6d1e-4779-a04c-eb5af710d953 button.colab-df-convert');\n",
              "      buttonEl.style.display =\n",
              "        google.colab.kernel.accessAllowed ? 'block' : 'none';\n",
              "\n",
              "      async function convertToInteractive(key) {\n",
              "        const element = document.querySelector('#df-b9cf156b-6d1e-4779-a04c-eb5af710d953');\n",
              "        const dataTable =\n",
              "          await google.colab.kernel.invokeFunction('convertToInteractive',\n",
              "                                                    [key], {});\n",
              "        if (!dataTable) return;\n",
              "\n",
              "        const docLinkHtml = 'Like what you see? Visit the ' +\n",
              "          '<a target=\"_blank\" href=https://colab.research.google.com/notebooks/data_table.ipynb>data table notebook</a>'\n",
              "          + ' to learn more about interactive tables.';\n",
              "        element.innerHTML = '';\n",
              "        dataTable['output_type'] = 'display_data';\n",
              "        await google.colab.output.renderOutput(dataTable, element);\n",
              "        const docLink = document.createElement('div');\n",
              "        docLink.innerHTML = docLinkHtml;\n",
              "        element.appendChild(docLink);\n",
              "      }\n",
              "    </script>\n",
              "  </div>\n",
              "\n",
              "\n",
              "<div id=\"df-96315bcb-3a01-4f70-a549-716252ced5f9\">\n",
              "  <button class=\"colab-df-quickchart\" onclick=\"quickchart('df-96315bcb-3a01-4f70-a549-716252ced5f9')\"\n",
              "            title=\"Suggest charts.\"\n",
              "            style=\"display:none;\">\n",
              "\n",
              "<svg xmlns=\"http://www.w3.org/2000/svg\" height=\"24px\"viewBox=\"0 0 24 24\"\n",
              "     width=\"24px\">\n",
              "    <g>\n",
              "        <path d=\"M19 3H5c-1.1 0-2 .9-2 2v14c0 1.1.9 2 2 2h14c1.1 0 2-.9 2-2V5c0-1.1-.9-2-2-2zM9 17H7v-7h2v7zm4 0h-2V7h2v10zm4 0h-2v-4h2v4z\"/>\n",
              "    </g>\n",
              "</svg>\n",
              "  </button>\n",
              "\n",
              "<style>\n",
              "  .colab-df-quickchart {\n",
              "      --bg-color: #E8F0FE;\n",
              "      --fill-color: #1967D2;\n",
              "      --hover-bg-color: #E2EBFA;\n",
              "      --hover-fill-color: #174EA6;\n",
              "      --disabled-fill-color: #AAA;\n",
              "      --disabled-bg-color: #DDD;\n",
              "  }\n",
              "\n",
              "  [theme=dark] .colab-df-quickchart {\n",
              "      --bg-color: #3B4455;\n",
              "      --fill-color: #D2E3FC;\n",
              "      --hover-bg-color: #434B5C;\n",
              "      --hover-fill-color: #FFFFFF;\n",
              "      --disabled-bg-color: #3B4455;\n",
              "      --disabled-fill-color: #666;\n",
              "  }\n",
              "\n",
              "  .colab-df-quickchart {\n",
              "    background-color: var(--bg-color);\n",
              "    border: none;\n",
              "    border-radius: 50%;\n",
              "    cursor: pointer;\n",
              "    display: none;\n",
              "    fill: var(--fill-color);\n",
              "    height: 32px;\n",
              "    padding: 0;\n",
              "    width: 32px;\n",
              "  }\n",
              "\n",
              "  .colab-df-quickchart:hover {\n",
              "    background-color: var(--hover-bg-color);\n",
              "    box-shadow: 0 1px 2px rgba(60, 64, 67, 0.3), 0 1px 3px 1px rgba(60, 64, 67, 0.15);\n",
              "    fill: var(--button-hover-fill-color);\n",
              "  }\n",
              "\n",
              "  .colab-df-quickchart-complete:disabled,\n",
              "  .colab-df-quickchart-complete:disabled:hover {\n",
              "    background-color: var(--disabled-bg-color);\n",
              "    fill: var(--disabled-fill-color);\n",
              "    box-shadow: none;\n",
              "  }\n",
              "\n",
              "  .colab-df-spinner {\n",
              "    border: 2px solid var(--fill-color);\n",
              "    border-color: transparent;\n",
              "    border-bottom-color: var(--fill-color);\n",
              "    animation:\n",
              "      spin 1s steps(1) infinite;\n",
              "  }\n",
              "\n",
              "  @keyframes spin {\n",
              "    0% {\n",
              "      border-color: transparent;\n",
              "      border-bottom-color: var(--fill-color);\n",
              "      border-left-color: var(--fill-color);\n",
              "    }\n",
              "    20% {\n",
              "      border-color: transparent;\n",
              "      border-left-color: var(--fill-color);\n",
              "      border-top-color: var(--fill-color);\n",
              "    }\n",
              "    30% {\n",
              "      border-color: transparent;\n",
              "      border-left-color: var(--fill-color);\n",
              "      border-top-color: var(--fill-color);\n",
              "      border-right-color: var(--fill-color);\n",
              "    }\n",
              "    40% {\n",
              "      border-color: transparent;\n",
              "      border-right-color: var(--fill-color);\n",
              "      border-top-color: var(--fill-color);\n",
              "    }\n",
              "    60% {\n",
              "      border-color: transparent;\n",
              "      border-right-color: var(--fill-color);\n",
              "    }\n",
              "    80% {\n",
              "      border-color: transparent;\n",
              "      border-right-color: var(--fill-color);\n",
              "      border-bottom-color: var(--fill-color);\n",
              "    }\n",
              "    90% {\n",
              "      border-color: transparent;\n",
              "      border-bottom-color: var(--fill-color);\n",
              "    }\n",
              "  }\n",
              "</style>\n",
              "\n",
              "  <script>\n",
              "    async function quickchart(key) {\n",
              "      const quickchartButtonEl =\n",
              "        document.querySelector('#' + key + ' button');\n",
              "      quickchartButtonEl.disabled = true;  // To prevent multiple clicks.\n",
              "      quickchartButtonEl.classList.add('colab-df-spinner');\n",
              "      try {\n",
              "        const charts = await google.colab.kernel.invokeFunction(\n",
              "            'suggestCharts', [key], {});\n",
              "      } catch (error) {\n",
              "        console.error('Error during call to suggestCharts:', error);\n",
              "      }\n",
              "      quickchartButtonEl.classList.remove('colab-df-spinner');\n",
              "      quickchartButtonEl.classList.add('colab-df-quickchart-complete');\n",
              "    }\n",
              "    (() => {\n",
              "      let quickchartButtonEl =\n",
              "        document.querySelector('#df-96315bcb-3a01-4f70-a549-716252ced5f9 button');\n",
              "      quickchartButtonEl.style.display =\n",
              "        google.colab.kernel.accessAllowed ? 'block' : 'none';\n",
              "    })();\n",
              "  </script>\n",
              "</div>\n",
              "    </div>\n",
              "  </div>\n"
            ]
          },
          "metadata": {},
          "execution_count": 67
        }
      ],
      "source": [
        "# remove all punctuation, remove stop words and tokenize using built in data cleaner in gensim\n",
        "import gensim\n",
        "\n",
        "data_concat_target['clean_text'] = data_concat_target['text'].apply(lambda x: gensim.parsing.preprocessing.remove_stopwords(x),\n",
        "                                                                    lambda x: gensim.parsing.preprocessing.remove_strip_punctuation(x))\n",
        "\n",
        "data_concat_target.head()"
      ]
    },
    {
      "cell_type": "code",
      "execution_count": 68,
      "metadata": {
        "colab": {
          "base_uri": "https://localhost:8080/",
          "height": 206
        },
        "id": "guRUA1UHY5NS",
        "outputId": "852ce605-2343-4c68-b3d6-b88e1904b33a"
      },
      "outputs": [
        {
          "output_type": "execute_result",
          "data": {
            "text/plain": [
              "                                                text  target  \\\n",
              "0  2019 ct bauer college of business graduate mag...     1.0   \n",
              "1  native english teacher at epik english program...     0.0   \n",
              "2  aspiring human resources professional raleigh-...     1.0   \n",
              "3  people development coordinator at ryan denton ...     0.0   \n",
              "4  advisory board member at celal bayar universit...     0.0   \n",
              "\n",
              "                                          clean_text  \\\n",
              "0  2019 ct bauer college business graduate magna ...   \n",
              "1  native english teacher epik english program ko...   \n",
              "2  aspiring human resources professional raleigh-...   \n",
              "3  people development coordinator ryan denton tex...   \n",
              "4  advisory board member celal bayar university i...   \n",
              "\n",
              "                                      processed_text  \n",
              "0  [2019, ct, bauer, college, business, graduate,...  \n",
              "1  [native, english, teacher, epik, english, prog...  \n",
              "2  [aspiring, human, resources, professional, ral...  \n",
              "3  [people, development, coordinator, ryan, dento...  \n",
              "4  [advisory, board, member, celal, bayar, univer...  "
            ],
            "text/html": [
              "\n",
              "  <div id=\"df-10c89604-2b44-45d0-b6fe-11281833e34b\" class=\"colab-df-container\">\n",
              "    <div>\n",
              "<style scoped>\n",
              "    .dataframe tbody tr th:only-of-type {\n",
              "        vertical-align: middle;\n",
              "    }\n",
              "\n",
              "    .dataframe tbody tr th {\n",
              "        vertical-align: top;\n",
              "    }\n",
              "\n",
              "    .dataframe thead th {\n",
              "        text-align: right;\n",
              "    }\n",
              "</style>\n",
              "<table border=\"1\" class=\"dataframe\">\n",
              "  <thead>\n",
              "    <tr style=\"text-align: right;\">\n",
              "      <th></th>\n",
              "      <th>text</th>\n",
              "      <th>target</th>\n",
              "      <th>clean_text</th>\n",
              "      <th>processed_text</th>\n",
              "    </tr>\n",
              "  </thead>\n",
              "  <tbody>\n",
              "    <tr>\n",
              "      <th>0</th>\n",
              "      <td>2019 ct bauer college of business graduate mag...</td>\n",
              "      <td>1.0</td>\n",
              "      <td>2019 ct bauer college business graduate magna ...</td>\n",
              "      <td>[2019, ct, bauer, college, business, graduate,...</td>\n",
              "    </tr>\n",
              "    <tr>\n",
              "      <th>1</th>\n",
              "      <td>native english teacher at epik english program...</td>\n",
              "      <td>0.0</td>\n",
              "      <td>native english teacher epik english program ko...</td>\n",
              "      <td>[native, english, teacher, epik, english, prog...</td>\n",
              "    </tr>\n",
              "    <tr>\n",
              "      <th>2</th>\n",
              "      <td>aspiring human resources professional raleigh-...</td>\n",
              "      <td>1.0</td>\n",
              "      <td>aspiring human resources professional raleigh-...</td>\n",
              "      <td>[aspiring, human, resources, professional, ral...</td>\n",
              "    </tr>\n",
              "    <tr>\n",
              "      <th>3</th>\n",
              "      <td>people development coordinator at ryan denton ...</td>\n",
              "      <td>0.0</td>\n",
              "      <td>people development coordinator ryan denton tex...</td>\n",
              "      <td>[people, development, coordinator, ryan, dento...</td>\n",
              "    </tr>\n",
              "    <tr>\n",
              "      <th>4</th>\n",
              "      <td>advisory board member at celal bayar universit...</td>\n",
              "      <td>0.0</td>\n",
              "      <td>advisory board member celal bayar university i...</td>\n",
              "      <td>[advisory, board, member, celal, bayar, univer...</td>\n",
              "    </tr>\n",
              "  </tbody>\n",
              "</table>\n",
              "</div>\n",
              "    <div class=\"colab-df-buttons\">\n",
              "\n",
              "  <div class=\"colab-df-container\">\n",
              "    <button class=\"colab-df-convert\" onclick=\"convertToInteractive('df-10c89604-2b44-45d0-b6fe-11281833e34b')\"\n",
              "            title=\"Convert this dataframe to an interactive table.\"\n",
              "            style=\"display:none;\">\n",
              "\n",
              "  <svg xmlns=\"http://www.w3.org/2000/svg\" height=\"24px\" viewBox=\"0 -960 960 960\">\n",
              "    <path d=\"M120-120v-720h720v720H120Zm60-500h600v-160H180v160Zm220 220h160v-160H400v160Zm0 220h160v-160H400v160ZM180-400h160v-160H180v160Zm440 0h160v-160H620v160ZM180-180h160v-160H180v160Zm440 0h160v-160H620v160Z\"/>\n",
              "  </svg>\n",
              "    </button>\n",
              "\n",
              "  <style>\n",
              "    .colab-df-container {\n",
              "      display:flex;\n",
              "      gap: 12px;\n",
              "    }\n",
              "\n",
              "    .colab-df-convert {\n",
              "      background-color: #E8F0FE;\n",
              "      border: none;\n",
              "      border-radius: 50%;\n",
              "      cursor: pointer;\n",
              "      display: none;\n",
              "      fill: #1967D2;\n",
              "      height: 32px;\n",
              "      padding: 0 0 0 0;\n",
              "      width: 32px;\n",
              "    }\n",
              "\n",
              "    .colab-df-convert:hover {\n",
              "      background-color: #E2EBFA;\n",
              "      box-shadow: 0px 1px 2px rgba(60, 64, 67, 0.3), 0px 1px 3px 1px rgba(60, 64, 67, 0.15);\n",
              "      fill: #174EA6;\n",
              "    }\n",
              "\n",
              "    .colab-df-buttons div {\n",
              "      margin-bottom: 4px;\n",
              "    }\n",
              "\n",
              "    [theme=dark] .colab-df-convert {\n",
              "      background-color: #3B4455;\n",
              "      fill: #D2E3FC;\n",
              "    }\n",
              "\n",
              "    [theme=dark] .colab-df-convert:hover {\n",
              "      background-color: #434B5C;\n",
              "      box-shadow: 0px 1px 3px 1px rgba(0, 0, 0, 0.15);\n",
              "      filter: drop-shadow(0px 1px 2px rgba(0, 0, 0, 0.3));\n",
              "      fill: #FFFFFF;\n",
              "    }\n",
              "  </style>\n",
              "\n",
              "    <script>\n",
              "      const buttonEl =\n",
              "        document.querySelector('#df-10c89604-2b44-45d0-b6fe-11281833e34b button.colab-df-convert');\n",
              "      buttonEl.style.display =\n",
              "        google.colab.kernel.accessAllowed ? 'block' : 'none';\n",
              "\n",
              "      async function convertToInteractive(key) {\n",
              "        const element = document.querySelector('#df-10c89604-2b44-45d0-b6fe-11281833e34b');\n",
              "        const dataTable =\n",
              "          await google.colab.kernel.invokeFunction('convertToInteractive',\n",
              "                                                    [key], {});\n",
              "        if (!dataTable) return;\n",
              "\n",
              "        const docLinkHtml = 'Like what you see? Visit the ' +\n",
              "          '<a target=\"_blank\" href=https://colab.research.google.com/notebooks/data_table.ipynb>data table notebook</a>'\n",
              "          + ' to learn more about interactive tables.';\n",
              "        element.innerHTML = '';\n",
              "        dataTable['output_type'] = 'display_data';\n",
              "        await google.colab.output.renderOutput(dataTable, element);\n",
              "        const docLink = document.createElement('div');\n",
              "        docLink.innerHTML = docLinkHtml;\n",
              "        element.appendChild(docLink);\n",
              "      }\n",
              "    </script>\n",
              "  </div>\n",
              "\n",
              "\n",
              "<div id=\"df-37e0f961-a5ea-4ab6-87dd-914ef3fda964\">\n",
              "  <button class=\"colab-df-quickchart\" onclick=\"quickchart('df-37e0f961-a5ea-4ab6-87dd-914ef3fda964')\"\n",
              "            title=\"Suggest charts.\"\n",
              "            style=\"display:none;\">\n",
              "\n",
              "<svg xmlns=\"http://www.w3.org/2000/svg\" height=\"24px\"viewBox=\"0 0 24 24\"\n",
              "     width=\"24px\">\n",
              "    <g>\n",
              "        <path d=\"M19 3H5c-1.1 0-2 .9-2 2v14c0 1.1.9 2 2 2h14c1.1 0 2-.9 2-2V5c0-1.1-.9-2-2-2zM9 17H7v-7h2v7zm4 0h-2V7h2v10zm4 0h-2v-4h2v4z\"/>\n",
              "    </g>\n",
              "</svg>\n",
              "  </button>\n",
              "\n",
              "<style>\n",
              "  .colab-df-quickchart {\n",
              "      --bg-color: #E8F0FE;\n",
              "      --fill-color: #1967D2;\n",
              "      --hover-bg-color: #E2EBFA;\n",
              "      --hover-fill-color: #174EA6;\n",
              "      --disabled-fill-color: #AAA;\n",
              "      --disabled-bg-color: #DDD;\n",
              "  }\n",
              "\n",
              "  [theme=dark] .colab-df-quickchart {\n",
              "      --bg-color: #3B4455;\n",
              "      --fill-color: #D2E3FC;\n",
              "      --hover-bg-color: #434B5C;\n",
              "      --hover-fill-color: #FFFFFF;\n",
              "      --disabled-bg-color: #3B4455;\n",
              "      --disabled-fill-color: #666;\n",
              "  }\n",
              "\n",
              "  .colab-df-quickchart {\n",
              "    background-color: var(--bg-color);\n",
              "    border: none;\n",
              "    border-radius: 50%;\n",
              "    cursor: pointer;\n",
              "    display: none;\n",
              "    fill: var(--fill-color);\n",
              "    height: 32px;\n",
              "    padding: 0;\n",
              "    width: 32px;\n",
              "  }\n",
              "\n",
              "  .colab-df-quickchart:hover {\n",
              "    background-color: var(--hover-bg-color);\n",
              "    box-shadow: 0 1px 2px rgba(60, 64, 67, 0.3), 0 1px 3px 1px rgba(60, 64, 67, 0.15);\n",
              "    fill: var(--button-hover-fill-color);\n",
              "  }\n",
              "\n",
              "  .colab-df-quickchart-complete:disabled,\n",
              "  .colab-df-quickchart-complete:disabled:hover {\n",
              "    background-color: var(--disabled-bg-color);\n",
              "    fill: var(--disabled-fill-color);\n",
              "    box-shadow: none;\n",
              "  }\n",
              "\n",
              "  .colab-df-spinner {\n",
              "    border: 2px solid var(--fill-color);\n",
              "    border-color: transparent;\n",
              "    border-bottom-color: var(--fill-color);\n",
              "    animation:\n",
              "      spin 1s steps(1) infinite;\n",
              "  }\n",
              "\n",
              "  @keyframes spin {\n",
              "    0% {\n",
              "      border-color: transparent;\n",
              "      border-bottom-color: var(--fill-color);\n",
              "      border-left-color: var(--fill-color);\n",
              "    }\n",
              "    20% {\n",
              "      border-color: transparent;\n",
              "      border-left-color: var(--fill-color);\n",
              "      border-top-color: var(--fill-color);\n",
              "    }\n",
              "    30% {\n",
              "      border-color: transparent;\n",
              "      border-left-color: var(--fill-color);\n",
              "      border-top-color: var(--fill-color);\n",
              "      border-right-color: var(--fill-color);\n",
              "    }\n",
              "    40% {\n",
              "      border-color: transparent;\n",
              "      border-right-color: var(--fill-color);\n",
              "      border-top-color: var(--fill-color);\n",
              "    }\n",
              "    60% {\n",
              "      border-color: transparent;\n",
              "      border-right-color: var(--fill-color);\n",
              "    }\n",
              "    80% {\n",
              "      border-color: transparent;\n",
              "      border-right-color: var(--fill-color);\n",
              "      border-bottom-color: var(--fill-color);\n",
              "    }\n",
              "    90% {\n",
              "      border-color: transparent;\n",
              "      border-bottom-color: var(--fill-color);\n",
              "    }\n",
              "  }\n",
              "</style>\n",
              "\n",
              "  <script>\n",
              "    async function quickchart(key) {\n",
              "      const quickchartButtonEl =\n",
              "        document.querySelector('#' + key + ' button');\n",
              "      quickchartButtonEl.disabled = true;  // To prevent multiple clicks.\n",
              "      quickchartButtonEl.classList.add('colab-df-spinner');\n",
              "      try {\n",
              "        const charts = await google.colab.kernel.invokeFunction(\n",
              "            'suggestCharts', [key], {});\n",
              "      } catch (error) {\n",
              "        console.error('Error during call to suggestCharts:', error);\n",
              "      }\n",
              "      quickchartButtonEl.classList.remove('colab-df-spinner');\n",
              "      quickchartButtonEl.classList.add('colab-df-quickchart-complete');\n",
              "    }\n",
              "    (() => {\n",
              "      let quickchartButtonEl =\n",
              "        document.querySelector('#df-37e0f961-a5ea-4ab6-87dd-914ef3fda964 button');\n",
              "      quickchartButtonEl.style.display =\n",
              "        google.colab.kernel.accessAllowed ? 'block' : 'none';\n",
              "    })();\n",
              "  </script>\n",
              "</div>\n",
              "    </div>\n",
              "  </div>\n"
            ]
          },
          "metadata": {},
          "execution_count": 68
        }
      ],
      "source": [
        "from gensim.parsing.preprocessing import preprocess_string\n",
        "\n",
        "data_concat_target['processed_text'] = [preprocess_string(sentence, [lambda x: x.lower()]) for sentence in data_concat_target['clean_text']]\n",
        "data_concat_target.head()"
      ]
    },
    {
      "cell_type": "markdown",
      "metadata": {
        "id": "WHmRPm8cNehN"
      },
      "source": [
        "###Splitting the Data"
      ]
    },
    {
      "cell_type": "code",
      "execution_count": 69,
      "metadata": {
        "id": "QMrLBzDKNiQE"
      },
      "outputs": [],
      "source": [
        "from sklearn.model_selection import train_test_split\n",
        "\n",
        "X_w2v = data_concat_target['processed_text']\n",
        "y_w2v = data_concat_target['target']\n",
        "\n",
        "X_train_w2v, X_temp_w2v, y_train_w2v, y_temp_w2v = train_test_split(\n",
        "    X_w2v, y_w2v, test_size=0.20, random_state=0\n",
        ")\n",
        "X_val_w2v, X_test_w2v, y_val_w2v, y_test_w2v = train_test_split(\n",
        "    X_temp_w2v, y_temp_w2v, test_size=0.5, random_state=0\n",
        ")"
      ]
    },
    {
      "cell_type": "code",
      "execution_count": 70,
      "metadata": {
        "colab": {
          "base_uri": "https://localhost:8080/"
        },
        "id": "d82q_pxzO0k-",
        "outputId": "5df8ee8b-7771-4a46-a8a4-dbc4ef8c8d92"
      },
      "outputs": [
        {
          "output_type": "stream",
          "name": "stdout",
          "text": [
            "{'human': 0, 'resources': 1, 'area': 2, '500+': 3, 'aspiring': 4, 'texas': 5, 'greater': 6, 'houston': 7, 'seeking': 8, 'student': 9, 'professional': 10, 'english': 11, 'generalist': 12, 'university': 13, 'atlanta': 14, 'coordinator': 15, 'kanada': 16, 'specialist': 17, 'california': 18, 'york': 19, 'new': 20, 'college': 21, '&': 22, 'business': 23, 'north': 24, 'city': 25, 'carolina': 26, 'manager': 27, 'epik': 28, 'raleigh-durham': 29, 'people': 30, 'development': 31, 'ryan': 32, 'management': 33, 'denton': 34, 'san': 35, 'teacher': 36, 'hr': 37, 'senior': 38, 'korea': 39, 'native': 40, 'program': 41, 'energy': 42, 'officer': 43, 'engie': 44, 'gphr': 45, 'sphr': 46, 'csr': 47, 'svp': 48, 'communications': 49, 'marketing': 50, 'chro': 51, 'woodlands': 52, 'opportunities': 53, 'beach': 54, 'philadelphia': 55, '61': 56, 'humber': 57, '1': 58, 'francisco': 59, 'bay': 60, 'intercontinental': 61, 'buckhead': 62, 'georgia': 63, 'chapman': 64, 'director': 65, 'illinois': 66, 'cum': 67, 'positions': 68, 'türkiye': 69, 'i̇zmir': 70, 'bayar': 71, 'celal': 72, 'member': 73, 'board': 74, 'chicago': 75, 'advisory': 76, '44': 77, '85': 78, 'laude': 79, 'magna': 80, '2019': 81, 'major': 82, 'lake': 83, 'forest': 84, '2': 85, 'hris': 86, 'ct': 87, 'bauer': 88, 'graduate': 89, 'internship': 90, 'position': 91, '57': 92, 'america': 93, 'virginia': 94, 'leader': 95, '7': 96, 'angeles': 97, 'retail': 98, '-': 99, 'indiana': 100, 'los': 101, 'devletleri': 102, 'birleşik': 103, 'amerika': 104, '390': 105, 'austin': 106, 'louisiana': 107, 'long': 108}\n"
          ]
        }
      ],
      "source": [
        "from gensim.models import Word2Vec\n",
        "\n",
        "# train word2vec model\n",
        "w2v_model = Word2Vec(X_train_w2v, min_count=2)\n",
        "\n",
        "vocab_w2v = w2v_model.wv.key_to_index\n",
        "print(vocab_w2v)"
      ]
    },
    {
      "cell_type": "markdown",
      "source": [
        "###Aggregated Sentence Vectors"
      ],
      "metadata": {
        "id": "xjcxJCl-fqPk"
      }
    },
    {
      "cell_type": "code",
      "source": [
        "import warnings\n",
        "warnings.filterwarnings(\"ignore\")\n",
        "\n",
        "words = set(w2v_model.wv.index_to_key )\n",
        "X_train_w2v_vect = np.array([np.array([w2v_model.wv[i] for i in ls if i in words])\n",
        "                         for ls in X_train_w2v])\n",
        "X_val_w2v_vect = np.array([np.array([w2v_model.wv[i] for i in ls if i in words])\n",
        "                         for ls in X_val_w2v])\n",
        "X_test_w2v_vect = np.array([np.array([w2v_model.wv[i] for i in ls if i in words])\n",
        "                         for ls in X_test_w2v])"
      ],
      "metadata": {
        "id": "GXQ1KFwMfj4Y"
      },
      "execution_count": 50,
      "outputs": []
    },
    {
      "cell_type": "code",
      "source": [
        "for i, v in enumerate(X_train_w2v_vect):\n",
        "    print(len(X_train_w2v.iloc[i]), len(v))"
      ],
      "metadata": {
        "id": "dhB_zouan8fA"
      },
      "execution_count": null,
      "outputs": []
    },
    {
      "cell_type": "code",
      "source": [
        "X_train_w2v_vect_avg = []\n",
        "for v in X_train_w2v_vect:\n",
        "    if v.size:\n",
        "        X_train_w2v_vect_avg.append(v.mean(axis=0))\n",
        "    else:\n",
        "        X_train_w2v_vect_avg.append(np.zeros(100, dtype=float))\n",
        "\n",
        "X_val_w2v_vect_avg = []\n",
        "for v in X_val_w2v_vect:\n",
        "    if v.size:\n",
        "        X_val_w2v_vect_avg.append(v.mean(axis=0))\n",
        "    else:\n",
        "        X_val_w2v_vect_avg.append(np.zeros(100, dtype=float))\n",
        "\n",
        "X_test_w2v_vect_avg = []\n",
        "for v in X_test_w2v_vect:\n",
        "    if v.size:\n",
        "        X_test_w2v_vect_avg.append(v.mean(axis=0))\n",
        "    else:\n",
        "        X_test_w2v_vect_avg.append(np.zeros(100, dtype=float))"
      ],
      "metadata": {
        "id": "4ZLIpQF8k8HB"
      },
      "execution_count": 52,
      "outputs": []
    },
    {
      "cell_type": "code",
      "source": [
        "for i, v in enumerate(X_train_w2v_vect_avg):\n",
        "    print(len(X_train_w2v.iloc[i]), len(v))"
      ],
      "metadata": {
        "id": "TC_Ek_z5nxyl"
      },
      "execution_count": null,
      "outputs": []
    },
    {
      "cell_type": "markdown",
      "source": [
        "##Classification Models"
      ],
      "metadata": {
        "id": "JOi7fXi45eZQ"
      }
    },
    {
      "cell_type": "markdown",
      "source": [
        "###Logistic Regression"
      ],
      "metadata": {
        "id": "1uLOOpU95iQh"
      }
    },
    {
      "cell_type": "markdown",
      "source": [
        "####Model Training"
      ],
      "metadata": {
        "id": "1uYz88DJ5lQ0"
      }
    },
    {
      "cell_type": "code",
      "source": [
        "from sklearn.linear_model import LogisticRegression\n",
        "from sklearn.model_selection import cross_val_score\n",
        "\n",
        "lr_model = LogisticRegression(random_state=0)\n",
        "cv_scores_lr_w2v = cross_val_score(lr_model, X_train_w2v_vect_avg, y_train_w2v, cv=5, scoring='accuracy')\n",
        "lr_model.fit(X_train_w2v_vect_avg, y_train_w2v)\n",
        "\n",
        "print(\"Cross Validation Scores: \", cv_scores_lr_w2v)"
      ],
      "metadata": {
        "colab": {
          "base_uri": "https://localhost:8080/"
        },
        "id": "4BwOlHljoGnx",
        "outputId": "aa2020ae-f6d4-4ded-d91f-64e7b9535a88"
      },
      "execution_count": 71,
      "outputs": [
        {
          "output_type": "stream",
          "name": "stdout",
          "text": [
            "Cross Validation Scores:  [0.64705882 0.64705882 0.64705882 0.6875     0.6875    ]\n"
          ]
        }
      ]
    },
    {
      "cell_type": "markdown",
      "source": [
        "####Hyperparameter Tuning"
      ],
      "metadata": {
        "id": "-sFrClD76fJs"
      }
    },
    {
      "cell_type": "code",
      "source": [
        "from sklearn.model_selection import GridSearchCV\n",
        "\n",
        "solver = ['newton-cg', 'lbfgs', 'liblinear', 'sag', 'saga']\n",
        "penalty = ['l1', 'l2', 'elasticnet']\n",
        "penalty.append(None)\n",
        "C = [10, 1, 0.1, 0.01]\n",
        "random_state = [0]\n",
        "\n",
        "param_grid_lr = {'solver': solver,\n",
        "                 'penalty': penalty,\n",
        "                 'C': C,\n",
        "                 'random_state': random_state}\n",
        "base_model_lr = LogisticRegression()\n",
        "grid_search_lr = GridSearchCV(estimator=base_model_lr, param_grid=param_grid_lr, cv=5, scoring='accuracy')\n",
        "\n",
        "grid_search_lr.fit(X_train_w2v_vect_avg, y_train_w2v)\n",
        "best_params_lr_w2v = grid_search_lr.best_params_\n",
        "print(\"best parameters: \",best_params_lr_w2v)"
      ],
      "metadata": {
        "colab": {
          "base_uri": "https://localhost:8080/"
        },
        "id": "72Cssdty6IsR",
        "outputId": "e9973ed1-6382-4946-e1a2-35eac36d3f08"
      },
      "execution_count": 55,
      "outputs": [
        {
          "output_type": "stream",
          "name": "stdout",
          "text": [
            "best parameters:  {'C': 10, 'penalty': None, 'random_state': 0, 'solver': 'newton-cg'}\n"
          ]
        }
      ]
    },
    {
      "cell_type": "markdown",
      "source": [
        "####Evaluating Model on Validation Set"
      ],
      "metadata": {
        "id": "bmBLOcq760-R"
      }
    },
    {
      "cell_type": "code",
      "source": [
        "from sklearn.metrics import accuracy_score, precision_score, recall_score\n",
        "\n",
        "tuned_model_lr_w2v = LogisticRegression(**best_params_lr_w2v)\n",
        "cv_scores_tuned_lr_w2v = cross_val_score(tuned_model_lr_w2v, X_train_w2v_vect_avg, y_train_w2v, cv=5, scoring='accuracy')\n",
        "\n",
        "tuned_model_lr_w2v.fit(X_train_w2v_vect_avg, y_train_w2v)\n",
        "y_pred_lr_val_w2v = tuned_model_lr_w2v.predict(X_val_w2v_vect_avg)\n",
        "\n",
        "accuracy_lr_val_w2v = accuracy_score(y_val_w2v, y_pred_lr_val_w2v)\n",
        "precision_lr_val_w2v = precision_score(y_val_w2v, y_pred_lr_val_w2v)\n",
        "recall_lr_val_w2v = recall_score(y_val_w2v, y_pred_lr_val_w2v)\n",
        "\n",
        "F1_lr_val_w2v = 2 * (precision_lr_val_w2v * recall_lr_val_w2v) / (precision_lr_val_w2v + recall_lr_val_w2v)\n",
        "\n",
        "print(\"Cross Validation Scores (for tuned model): \",cv_scores_tuned_lr_w2v)\n",
        "print(\"F1: \",F1_lr_val_w2v)\n",
        "print(\"Accuracy: \",accuracy_lr_val_w2v)"
      ],
      "metadata": {
        "colab": {
          "base_uri": "https://localhost:8080/"
        },
        "id": "cyFqY0rO64i4",
        "outputId": "5a17f578-7a07-4e0d-b782-d3fe2e2d35d5"
      },
      "execution_count": 56,
      "outputs": [
        {
          "output_type": "stream",
          "name": "stdout",
          "text": [
            "Cross Validation Scores (for tuned model):  [0.70588235 0.94117647 0.94117647 0.9375     0.875     ]\n",
            "F1:  1.0\n",
            "Accuracy:  1.0\n"
          ]
        }
      ]
    },
    {
      "cell_type": "markdown",
      "source": [
        "####Evaluating Model on Test Set"
      ],
      "metadata": {
        "id": "ogWuO7AF7-_b"
      }
    },
    {
      "cell_type": "code",
      "source": [
        "y_pred_lr_test_w2v = tuned_model_lr_w2v.predict(X_test_w2v_vect_avg)\n",
        "\n",
        "accuracy_lr_test_w2v = accuracy_score(y_test_w2v, y_pred_lr_test_w2v)\n",
        "precision_lr_test_w2v = precision_score(y_test_w2v, y_pred_lr_test_w2v)\n",
        "recall_lr_test_w2v = recall_score(y_test_w2v, y_pred_lr_test_w2v)\n",
        "\n",
        "F1_lr_test_w2v = 2 * (precision_lr_test_w2v * recall_lr_test_w2v) / (precision_lr_test_w2v + recall_lr_test_w2v)\n",
        "print(\"F1: \",F1_lr_test_w2v)\n",
        "print(\"Accuracy: \",accuracy_lr_test_w2v)"
      ],
      "metadata": {
        "colab": {
          "base_uri": "https://localhost:8080/"
        },
        "id": "rKusvVOt8CJA",
        "outputId": "89b7465d-b1d4-4356-c201-fb942ea91b14"
      },
      "execution_count": 57,
      "outputs": [
        {
          "output_type": "stream",
          "name": "stdout",
          "text": [
            "F1:  1.0\n",
            "Accuracy:  1.0\n"
          ]
        }
      ]
    },
    {
      "cell_type": "markdown",
      "source": [
        "###SVM Model"
      ],
      "metadata": {
        "id": "eSiGf3AW-IBz"
      }
    },
    {
      "cell_type": "markdown",
      "source": [
        "####Model Training"
      ],
      "metadata": {
        "id": "jGMB7gnU-Lwf"
      }
    },
    {
      "cell_type": "code",
      "source": [
        "from sklearn.model_selection import cross_val_score\n",
        "from sklearn.svm import SVC\n",
        "\n",
        "svm_model = SVC(random_state=0)\n",
        "cv_scores_svm_w2v = cross_val_score(svm_model, X_train_w2v_vect_avg, y_train_w2v, cv=5, scoring='accuracy')\n",
        "svm_model.fit(X_train_w2v_vect_avg, y_train_w2v)\n",
        "\n",
        "print(\"Cross Validation Scores:\", cv_scores_svm_w2v)"
      ],
      "metadata": {
        "colab": {
          "base_uri": "https://localhost:8080/"
        },
        "id": "hqvxuVom-KqH",
        "outputId": "986cb1a2-b87a-42d8-8e40-f301d93e4787"
      },
      "execution_count": 58,
      "outputs": [
        {
          "output_type": "stream",
          "name": "stdout",
          "text": [
            "Cross Validation Scores: [0.88235294 1.         1.         0.9375     0.75      ]\n"
          ]
        }
      ]
    },
    {
      "cell_type": "markdown",
      "source": [
        "####Hyperparameter Tuning"
      ],
      "metadata": {
        "id": "b3XK4oAy-lA5"
      }
    },
    {
      "cell_type": "code",
      "source": [
        "from sklearn.model_selection import GridSearchCV\n",
        "\n",
        "C = [0.1, 1, 10]\n",
        "gamma = ['scale', 'auto', 1, 0.1, 0.01]\n",
        "kernel = ['rbf', 'poly', 'sigmoid']\n",
        "random_state = [0]\n",
        "\n",
        "param_grid_svm = {'C': C,\n",
        "                  'gamma': gamma,\n",
        "                  'kernel': kernel,\n",
        "                  'random_state': random_state}\n",
        "base_model_svm = SVC()\n",
        "grid_search_svm = GridSearchCV(estimator=base_model_svm, param_grid=param_grid_svm, cv=5, scoring='accuracy')\n",
        "\n",
        "grid_search_svm.fit(X_train_w2v_vect_avg, y_train_w2v)\n",
        "best_params_svm_w2v = grid_search_svm.best_params_\n",
        "print(\"best parameters: \",best_params_svm_w2v)"
      ],
      "metadata": {
        "colab": {
          "base_uri": "https://localhost:8080/"
        },
        "id": "OM9lZXK1-pIF",
        "outputId": "1706fc44-3974-4abc-b5b5-f23c5ac549f0"
      },
      "execution_count": 59,
      "outputs": [
        {
          "output_type": "stream",
          "name": "stdout",
          "text": [
            "best parameters:  {'C': 1, 'gamma': 'scale', 'kernel': 'rbf', 'random_state': 0}\n"
          ]
        }
      ]
    },
    {
      "cell_type": "markdown",
      "source": [
        "####Evaluating Model on Validation Set"
      ],
      "metadata": {
        "id": "7awcGTkJ-68x"
      }
    },
    {
      "cell_type": "code",
      "source": [
        "from sklearn.metrics import accuracy_score, precision_score, recall_score\n",
        "\n",
        "tuned_model_svm_w2v = SVC(**best_params_svm_w2v)\n",
        "cv_scores_tuned_svm_w2v = cross_val_score(tuned_model_svm_w2v, X_train_w2v_vect_avg, y_train_w2v, cv=5, scoring='accuracy')\n",
        "tuned_model_svm_w2v.fit(X_train_w2v_vect_avg, y_train_w2v)\n",
        "y_pred_svm_val_w2v = tuned_model_svm_w2v.predict(X_val_w2v_vect_avg)\n",
        "\n",
        "accuracy_svm_val_w2v = accuracy_score(y_val_w2v, y_pred_svm_val_w2v)\n",
        "precision_svm_val_w2v = precision_score(y_val_w2v, y_pred_svm_val_w2v)\n",
        "recall_svm_val_w2v = recall_score(y_val_w2v, y_pred_svm_val_w2v)\n",
        "\n",
        "F1_svm_val_w2v = 2 * (precision_svm_val_w2v * recall_svm_val_w2v) / (precision_svm_val_w2v + recall_svm_val_w2v)\n",
        "\n",
        "print(\"Cross Validation Scores (for tuned model): \",cv_scores_tuned_svm_w2v)\n",
        "print(\"F1: \",F1_svm_val_w2v)\n",
        "print(\"Accuracy: \",accuracy_svm_val_w2v)"
      ],
      "metadata": {
        "colab": {
          "base_uri": "https://localhost:8080/"
        },
        "id": "MsVZompj-_A8",
        "outputId": "5a587bf7-e1e5-4c2f-a7ba-5f8b9b0d5cab"
      },
      "execution_count": 60,
      "outputs": [
        {
          "output_type": "stream",
          "name": "stdout",
          "text": [
            "Cross Validation Scores (for tuned model):  [0.88235294 1.         1.         0.9375     0.75      ]\n",
            "F1:  1.0\n",
            "Accuracy:  1.0\n"
          ]
        }
      ]
    },
    {
      "cell_type": "markdown",
      "source": [
        "####Evaluating Model on Test Set"
      ],
      "metadata": {
        "id": "wgjj72aG_xKO"
      }
    },
    {
      "cell_type": "code",
      "source": [
        "y_pred_svm_test_w2v = tuned_model_svm_w2v.predict(X_test_w2v_vect_avg)\n",
        "\n",
        "accuracy_svm_test_w2v = accuracy_score(y_test_w2v, y_pred_svm_test_w2v)\n",
        "precision_svm_test_w2v = precision_score(y_test_w2v, y_pred_svm_test_w2v)\n",
        "recall_svm_test_w2v = recall_score(y_test_w2v, y_pred_svm_test_w2v)\n",
        "\n",
        "F1_svm_test_w2v = 2 * (precision_svm_test_w2v * recall_svm_test_w2v) / (precision_svm_test_w2v + recall_svm_test_w2v)\n",
        "print(\"F1: \",F1_svm_test_w2v)\n",
        "print(\"Accuracy: \",accuracy_svm_test_w2v)"
      ],
      "metadata": {
        "colab": {
          "base_uri": "https://localhost:8080/"
        },
        "id": "PtGPIpFu_2CD",
        "outputId": "3c0cf2d5-6b8c-4cce-8d25-f2dd2b1f5d6c"
      },
      "execution_count": 61,
      "outputs": [
        {
          "output_type": "stream",
          "name": "stdout",
          "text": [
            "F1:  1.0\n",
            "Accuracy:  1.0\n"
          ]
        }
      ]
    },
    {
      "cell_type": "markdown",
      "source": [
        "###Naive Bayes"
      ],
      "metadata": {
        "id": "som46kfeAcp3"
      }
    },
    {
      "cell_type": "markdown",
      "source": [
        "####Model Training"
      ],
      "metadata": {
        "id": "FYNdg3K_AgsM"
      }
    },
    {
      "cell_type": "code",
      "source": [
        "from sklearn.naive_bayes import GaussianNB\n",
        "from sklearn.model_selection import cross_val_score\n",
        "\n",
        "nb_model = GaussianNB()\n",
        "cv_scores_nb_w2v = cross_val_score(nb_model, X_train_w2v_vect_avg, y_train_w2v, cv=5, scoring='accuracy')\n",
        "nb_model.fit(X_train_w2v_vect_avg, y_train_w2v)\n",
        "\n",
        "print(\"Cross Validation Scores:\", cv_scores_nb_w2v)"
      ],
      "metadata": {
        "colab": {
          "base_uri": "https://localhost:8080/"
        },
        "id": "fv8fNWo0Ae-6",
        "outputId": "8073b122-7caf-45d2-dafc-2666a8474746"
      },
      "execution_count": 62,
      "outputs": [
        {
          "output_type": "stream",
          "name": "stdout",
          "text": [
            "Cross Validation Scores: [0.82352941 1.         0.94117647 0.8125     0.75      ]\n"
          ]
        }
      ]
    },
    {
      "cell_type": "markdown",
      "source": [
        "####Hyperparameter Tuning"
      ],
      "metadata": {
        "id": "FjVZoIuhA1sA"
      }
    },
    {
      "cell_type": "code",
      "source": [
        "from sklearn.model_selection import GridSearchCV\n",
        "\n",
        "var_smoothing = np.logspace(0,-9, num=100)\n",
        "\n",
        "param_grid_nb = {'var_smoothing': var_smoothing}\n",
        "base_model_nb = GaussianNB()\n",
        "grid_search_nb = GridSearchCV(estimator=base_model_nb, param_grid=param_grid_nb, cv=5, scoring='accuracy')\n",
        "\n",
        "grid_search_nb.fit(X_train_w2v_vect_avg, y_train_w2v)\n",
        "best_params_nb_w2v = grid_search_nb.best_params_\n",
        "print(\"best parameters: \",best_params_nb_w2v)"
      ],
      "metadata": {
        "colab": {
          "base_uri": "https://localhost:8080/"
        },
        "id": "00H2fTQLA4jp",
        "outputId": "b7a00f80-7b62-4ba7-f543-3781a19496ad"
      },
      "execution_count": 63,
      "outputs": [
        {
          "output_type": "stream",
          "name": "stdout",
          "text": [
            "best parameters:  {'var_smoothing': 0.01873817422860384}\n"
          ]
        }
      ]
    },
    {
      "cell_type": "markdown",
      "source": [
        "####Evaluating Model on Validation Set"
      ],
      "metadata": {
        "id": "IPTLozIuBIbu"
      }
    },
    {
      "cell_type": "code",
      "source": [
        "from sklearn.metrics import accuracy_score, precision_score, recall_score\n",
        "\n",
        "tuned_model_nb_w2v = GaussianNB(**best_params_nb_w2v)\n",
        "cv_scores_tuned_nb_w2v = cross_val_score(tuned_model_nb_w2v, X_train_w2v_vect_avg, y_train_w2v, cv=5, scoring='accuracy')\n",
        "tuned_model_nb_w2v.fit(X_train_w2v_vect_avg, y_train_w2v)\n",
        "y_pred_nb_val_w2v = tuned_model_nb_w2v.predict(X_val_w2v_vect_avg)\n",
        "\n",
        "accuracy_nb_val_w2v = accuracy_score(y_val_w2v, y_pred_nb_val_w2v)\n",
        "precision_nb_val_w2v = precision_score(y_val_w2v, y_pred_nb_val_w2v)\n",
        "recall_nb_val_w2v = recall_score(y_val_w2v, y_pred_nb_val_w2v)\n",
        "\n",
        "F1_nb_val_w2v = 2 * (precision_nb_val_w2v * recall_nb_val_w2v) / (precision_nb_val_w2v + recall_nb_val_w2v)\n",
        "\n",
        "print(\"Cross Validation Scores (for tuned model): \",cv_scores_tuned_nb_w2v)\n",
        "print(\"F1: \",F1_nb_val_w2v)\n",
        "print(\"Accuracy: \",accuracy_nb_val_w2v)"
      ],
      "metadata": {
        "colab": {
          "base_uri": "https://localhost:8080/"
        },
        "id": "_w5L2tB3BLjx",
        "outputId": "253eb455-0719-4397-e480-844f856970e8"
      },
      "execution_count": 64,
      "outputs": [
        {
          "output_type": "stream",
          "name": "stdout",
          "text": [
            "Cross Validation Scores (for tuned model):  [0.76470588 1.         0.94117647 0.875      0.75      ]\n",
            "F1:  1.0\n",
            "Accuracy:  1.0\n"
          ]
        }
      ]
    },
    {
      "cell_type": "markdown",
      "source": [
        "####Evaluating Model on Test Set"
      ],
      "metadata": {
        "id": "bobbfWFFCAeu"
      }
    },
    {
      "cell_type": "code",
      "source": [
        "y_pred_nb_test_w2v = tuned_model_nb_w2v.predict(X_test_w2v_vect_avg)\n",
        "\n",
        "accuracy_nb_test_w2v = accuracy_score(y_test_w2v, y_pred_nb_test_w2v)\n",
        "precision_nb_test_w2v = precision_score(y_test_w2v, y_pred_nb_test_w2v)\n",
        "recall_nb_test_w2v = recall_score(y_test_w2v, y_pred_nb_test_w2v)\n",
        "\n",
        "F1_nb_test_w2v = 2 * (precision_nb_test_w2v * recall_nb_test_w2v) / (precision_nb_test_w2v + recall_nb_test_w2v)\n",
        "print(\"F1: \",F1_nb_test_w2v)\n",
        "print(\"Accuracy: \",accuracy_nb_test_w2v)"
      ],
      "metadata": {
        "colab": {
          "base_uri": "https://localhost:8080/"
        },
        "id": "AWYezeUyCDLl",
        "outputId": "24f3b239-6e13-44f6-d78c-b703b1f3a31d"
      },
      "execution_count": 65,
      "outputs": [
        {
          "output_type": "stream",
          "name": "stdout",
          "text": [
            "F1:  1.0\n",
            "Accuracy:  1.0\n"
          ]
        }
      ]
    }
  ],
  "metadata": {
    "colab": {
      "provenance": []
    },
    "kernelspec": {
      "display_name": "Python 3",
      "name": "python3"
    },
    "language_info": {
      "name": "python"
    }
  },
  "nbformat": 4,
  "nbformat_minor": 0
}